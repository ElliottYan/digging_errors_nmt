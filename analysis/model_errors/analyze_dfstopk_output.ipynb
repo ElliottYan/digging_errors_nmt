{
 "cells": [
  {
   "cell_type": "code",
   "execution_count": 2,
   "metadata": {},
   "outputs": [],
   "source": [
    "import sys\n",
    "import os\n",
    "from collections import defaultdict\n",
    "import sacrebleu\n",
    "\n",
    "temp_path = 'ende_{}_wmt14.en-de.transformer.para_ft'\n",
    "dfs_path = temp_path.format('dfstopk')\n",
    "beam_path = temp_path.format('beam')\n",
    "beam_size = 10"
   ]
  },
  {
   "cell_type": "code",
   "execution_count": 3,
   "metadata": {},
   "outputs": [],
   "source": [
    "def read_split_files(file_path, beam_size):\n",
    "    all_lines = dict()\n",
    "    for file in os.listdir(file_path):\n",
    "        cur_path = os.path.join(file_path, file)\n",
    "        with open(cur_path, 'r') as f:\n",
    "            lines = f.readlines()\n",
    "        num_suffix = file.split('.')[-1]\n",
    "        all_lines[int(num_suffix)] = lines\n",
    "    max_range = max([int(key) for key in all_lines])\n",
    "    assert max_range + 1 == len(all_lines)\n",
    "\n",
    "    ret = defaultdict(list)\n",
    "    for i in range(max_range+1):\n",
    "        offset = beam_size * i\n",
    "        for line in all_lines[i]:\n",
    "            splits = line.strip().split('|||')\n",
    "            assert len(splits) == 3\n",
    "            idx, sent, score = splits\n",
    "            true_idx = offset + int(idx)\n",
    "            ret[true_idx].append((float(score), sent.strip()))\n",
    "    return ret"
   ]
  },
  {
   "cell_type": "code",
   "execution_count": 4,
   "metadata": {},
   "outputs": [],
   "source": [
    "# call delbpe\n",
    "import subprocess\n",
    "\n",
    "def call_delbpe(input_dir):\n",
    "    output_dir = input_dir + '.delbpe'\n",
    "    print(output_dir)\n",
    "    subprocess.run(['mkdir', '-p', output_dir])\n",
    "    for file in os.listdir(input_dir):\n",
    "        if not file.endswith('delbpe'):\n",
    "            abs_path = os.path.join(input_dir, file)\n",
    "            out_path = os.path.join(output_dir, file)\n",
    "            subprocess.run(['bash', 'delbpe.sh', abs_path])\n",
    "            subprocess.run(['mv', abs_path+'.delbpe', out_path])\n",
    "            \n",
    "    return output_dir"
   ]
  },
  {
   "cell_type": "code",
   "execution_count": 5,
   "metadata": {},
   "outputs": [],
   "source": [
    "# call delbpe\n",
    "import subprocess\n",
    "\n",
    "def call_detok(input_dir):\n",
    "    output_dir = input_dir + '.detok'\n",
    "    print(output_dir)\n",
    "    subprocess.run(['mkdir', '-p', output_dir])\n",
    "    for file in os.listdir(input_dir):\n",
    "        if not file.endswith('detok'):\n",
    "            abs_path = os.path.join(input_dir, file)\n",
    "            out_path = os.path.join(output_dir, file)\n",
    "            f1 = open(abs_path, 'r')\n",
    "            f2 = open(out_path, 'w')\n",
    "            subprocess.run(['perl', 'detokenizer.perl'], stdin=f1, stdout=f2)\n",
    "            f1.close()\n",
    "            f2.close()\n",
    "#             subprocess.run(['mv', abs_path+'.delbpe', ])\n",
    "            \n",
    "    return output_dir"
   ]
  },
  {
   "cell_type": "code",
   "execution_count": 6,
   "metadata": {},
   "outputs": [
    {
     "name": "stdout",
     "output_type": "stream",
     "text": [
      "ende_beam_wmt14.en-de.transformer.para_ft.delbpe\n",
      "ende_dfstopk_wmt14.en-de.transformer.para_ft.delbpe\n"
     ]
    }
   ],
   "source": [
    "delbpe_beam_path = call_delbpe(beam_path)\n",
    "delbpe_dfs_path = call_delbpe(dfs_path)"
   ]
  },
  {
   "cell_type": "code",
   "execution_count": 7,
   "metadata": {},
   "outputs": [
    {
     "name": "stdout",
     "output_type": "stream",
     "text": [
      "ende_beam_wmt14.en-de.transformer.para_ft.delbpe.detok\n",
      "ende_beam_wmt14.en-de.transformer.para_ft.delbpe.detok\n"
     ]
    }
   ],
   "source": [
    "detok_delbpe_beam_path = call_detok(delbpe_beam_path)\n",
    "detok_delbpe_dfs_path = call_detok(delbpe_beam_path)"
   ]
  },
  {
   "cell_type": "code",
   "execution_count": 45,
   "metadata": {},
   "outputs": [],
   "source": [
    "beam_outputs = read_split_files(beam_path, beam_size)\n",
    "dfs_outputs = read_split_files(dfs_path, beam_size)"
   ]
  },
  {
   "cell_type": "code",
   "execution_count": 9,
   "metadata": {},
   "outputs": [],
   "source": [
    "def read(file):\n",
    "    with open(file, 'r') as f:\n",
    "        lines = f.readlines()\n",
    "    lines = [line.strip() for line in lines]\n",
    "    return lines\n",
    "ref_file = './test.de.tok.detok'\n",
    "refs = read(ref_file)"
   ]
  },
  {
   "cell_type": "code",
   "execution_count": 10,
   "metadata": {},
   "outputs": [
    {
     "data": {
      "text/plain": [
       "3003"
      ]
     },
     "execution_count": 10,
     "metadata": {},
     "output_type": "execute_result"
    }
   ],
   "source": [
    "len(refs)"
   ]
  },
  {
   "cell_type": "code",
   "execution_count": 29,
   "metadata": {},
   "outputs": [],
   "source": [
    "def score_all_outputs(output_dict, refs):\n",
    "    scores = []\n",
    "    for idx in output_dict:\n",
    "        cur_ref = refs[idx]\n",
    "        candidates = output_dict[idx]\n",
    "        candidates = [item[1] for item in candidates]\n",
    "        cur_scores = [sacrebleu.sentence_bleu(item, cur_ref).score for item in candidates]\n",
    "        scores.append(cur_scores)\n",
    "    return scores\n",
    "# beam_scores = score_all_outputs(beam_outputs, refs)"
   ]
  },
  {
   "cell_type": "code",
   "execution_count": 12,
   "metadata": {},
   "outputs": [
    {
     "name": "stdout",
     "output_type": "stream",
     "text": [
      "18.250411330999558\n"
     ]
    }
   ],
   "source": [
    "all_scores = []\n",
    "for i in range(len(beam_scores)):\n",
    "    for item in beam_scores[i]:\n",
    "        all_scores.append(item.score)\n",
    "print(sum(all_scores) / len(all_scores))"
   ]
  },
  {
   "cell_type": "code",
   "execution_count": 13,
   "metadata": {},
   "outputs": [],
   "source": [
    "def get_top1(outputs):\n",
    "    ret = [None] * len(outputs)\n",
    "    for key in outputs:\n",
    "        ret[key] = outputs[key][0][1]\n",
    "    return ret\n",
    "def write_file(sents, file):\n",
    "    with open(file, 'w') as f:\n",
    "        for sent in sents:\n",
    "            f.write(sent + '\\n')\n",
    "beam_top1s = get_top1(beam_outputs)\n",
    "write_file(beam_top1s, 'beam.outs')"
   ]
  },
  {
   "cell_type": "code",
   "execution_count": 14,
   "metadata": {},
   "outputs": [
    {
     "data": {
      "text/plain": [
       "16.883931426309903"
      ]
     },
     "execution_count": 14,
     "metadata": {},
     "output_type": "execute_result"
    }
   ],
   "source": [
    "beam_scores[50][1].score"
   ]
  },
  {
   "cell_type": "code",
   "execution_count": 107,
   "metadata": {},
   "outputs": [
    {
     "name": "stdout",
     "output_type": "stream",
     "text": [
      "3003\n",
      "3003\n"
     ]
    }
   ],
   "source": [
    "print(len(beam_outputs))\n",
    "print(len(dfs_outputs))"
   ]
  },
  {
   "cell_type": "code",
   "execution_count": 18,
   "metadata": {},
   "outputs": [
    {
     "name": "stdout",
     "output_type": "stream",
     "text": [
      "[(-3.93865, 'Gutach : Erhöhung der Sicherheit für Fußgänger'), (-4.273254, 'Gutach : Mehr Sicherheit für Fußgänger'), (-4.321206, 'Gutach : Erhöhte Sicherheit für Fußgänger'), (-4.95942, 'Reichweite : Erhöhung der Sicherheit für Fußgänger'), (-5.522714, 'Gutgang : Erhöhung der Sicherheit für Fußgänger'), (-5.709036, 'Bach : Erhöhung der Sicherheit für Fußgänger'), (-5.715024, 'Leistung : Erhöhung der Sicherheit für Fußgänger'), (-5.885941, 'Gutachter : Erhöhung der Sicherheit für Fußgänger'), (-6.366059, 'Ziel : Erhöhung der Sicherheit für Fußgänger'), (-7.154575, 'Gutach : Die Sicherheit für Fußgänger')]\n"
     ]
    }
   ],
   "source": [
    "print(beam_outputs[0])"
   ]
  },
  {
   "cell_type": "code",
   "execution_count": 46,
   "metadata": {
    "scrolled": false
   },
   "outputs": [],
   "source": [
    "import copy\n",
    "def process_text_in_moses_format(output_dict, func):\n",
    "    all_texts = []\n",
    "    for i in range(len(output_dict)):\n",
    "        for j in range(len(output_dict[i])):\n",
    "            all_texts.append(output_dict[i][j][1])\n",
    "        \n",
    "    import tempfile\n",
    "    # write to temp file\n",
    "    f_temp = tempfile.NamedTemporaryFile(mode='w', encoding='utf8', delete=False)\n",
    "    temp_name = f_temp.name\n",
    "    for line in all_texts:\n",
    "        f_temp.write(line+'\\n')\n",
    "    f_temp.close()\n",
    "    ret_file_name = func(temp_name)\n",
    "    with open(ret_file_name, 'r', encoding='utf8') as f:\n",
    "        lines = f.readlines()\n",
    "    ret_texts = [line.strip() for line in lines]\n",
    "    \n",
    "    ret = copy.deepcopy(output_dict)\n",
    "    k = 0\n",
    "    # put back\n",
    "    for i in range(len(ret)):\n",
    "        for j in range(len(ret[i])):\n",
    "            ret[i][j] = (ret[i][j][0], ret_texts[k])\n",
    "            k += 1\n",
    "    return ret\n",
    "\n",
    "def call_delbpe(file_name):\n",
    "    subprocess.run(['bash', 'delbpe.sh', file_name])\n",
    "    return file_name + '.delbpe'\n",
    "\n",
    "def call_detok(file_name):\n",
    "    out_path = file_name + '.detok'\n",
    "    f1 = open(file_name, 'r')\n",
    "    f2 = open(out_path, 'w')\n",
    "    subprocess.run(['perl', 'detokenizer.perl'], stdin=f1, stdout=f2)\n",
    "    return out_path\n",
    "\n",
    "def call_delbpe_and_detok(file_name):\n",
    "    f1 = call_delbpe(file_name)\n",
    "    f2 = call_detok(f1)\n",
    "    return f2\n",
    "\n",
    "dbpe_detok_beam_outputs = process_text_in_moses_format(beam_outputs, call_delbpe_and_detok)"
   ]
  },
  {
   "cell_type": "code",
   "execution_count": 47,
   "metadata": {
    "scrolled": true
   },
   "outputs": [
    {
     "name": "stdout",
     "output_type": "stream",
     "text": [
      "BLEU = 26.70 57.3/32.3/20.4/13.5 (BP = 1.000 ratio = 1.036 hyp_len = 64948 ref_len = 62719)\n"
     ]
    }
   ],
   "source": [
    "beam_top1s = get_top1(dbpe_detok_beam_outputs)\n",
    "print(sacrebleu.corpus_bleu(beam_top1s, [refs]))"
   ]
  },
  {
   "cell_type": "code",
   "execution_count": 48,
   "metadata": {},
   "outputs": [],
   "source": [
    "dbpe_detok_dfstopk_outputs = process_text_in_moses_format(dfs_outputs, call_delbpe_and_detok)"
   ]
  },
  {
   "cell_type": "code",
   "execution_count": 50,
   "metadata": {},
   "outputs": [
    {
     "name": "stdout",
     "output_type": "stream",
     "text": [
      "BLEU = 26.70 57.3/32.3/20.4/13.5 (BP = 1.000 ratio = 1.036 hyp_len = 64948 ref_len = 62719)\n"
     ]
    }
   ],
   "source": [
    "dfs_top1s = get_top1(dbpe_detok_dfstopk_outputs)\n",
    "print(sacrebleu.corpus_bleu(dfs_top1s, [refs]))\n",
    "write_file(dfs_top1s, 'dfs.outs')"
   ]
  },
  {
   "cell_type": "code",
   "execution_count": 30,
   "metadata": {},
   "outputs": [],
   "source": [
    "beam_scores = score_all_outputs(dbpe_detok_beam_outputs, refs)\n",
    "dfstopk_scores = score_all_outputs(dbpe_detok_dfstopk_outputs, refs)"
   ]
  },
  {
   "cell_type": "code",
   "execution_count": 38,
   "metadata": {},
   "outputs": [],
   "source": [
    "from collections import defaultdict\n",
    "import numpy as np\n",
    "def collect_pos_stats(scores):\n",
    "    pos_scores = defaultdict(list)\n",
    "    for i in range(len(scores)):\n",
    "        for j in range(len(scores[i])):\n",
    "            pos_scores[j].append(scores[i][j])\n",
    "    for key in pos_scores:\n",
    "        pos_scores[key] = np.array(pos_scores[key])\n",
    "        pos_scores[key] = {\n",
    "            'mean': np.mean(pos_scores[key]),\n",
    "            'std': np.std(pos_scores[key]),\n",
    "        }\n",
    "    return pos_scores\n",
    "\n",
    "beam_pos_scores = collect_pos_stats(beam_scores)\n",
    "dfs_pos_scores = collect_pos_stats(dfstopk_scores)"
   ]
  },
  {
   "cell_type": "code",
   "execution_count": 40,
   "metadata": {},
   "outputs": [
    {
     "name": "stdout",
     "output_type": "stream",
     "text": [
      "defaultdict(<class 'list'>, {0: {'mean': 20.74970116011649, 'std': 21.597381729234026}, 1: {'mean': 19.633633456812728, 'std': 20.436568823192456}, 2: {'mean': 19.726919453173267, 'std': 20.441516902652868}, 3: {'mean': 19.601352199124246, 'std': 20.288931039242172}, 4: {'mean': 19.09898318279514, 'std': 19.78601045340043}, 5: {'mean': 18.9456454764055, 'std': 19.671050240776243}, 6: {'mean': 19.008323678737344, 'std': 19.808169985374946}, 7: {'mean': 18.72328988844938, 'std': 19.66063263137844}, 8: {'mean': 18.390385084119487, 'std': 19.124830412555717}, 9: {'mean': 18.059199669509955, 'std': 19.063192236516006}})\n"
     ]
    }
   ],
   "source": [
    "print(dfs_pos_scores)"
   ]
  },
  {
   "cell_type": "code",
   "execution_count": 44,
   "metadata": {},
   "outputs": [
    {
     "data": {
      "image/png": "[encoded data removed]",
      "text/plain": [
       "<Figure size 576x288 with 1 Axes>"
      ]
     },
     "metadata": {
      "needs_background": "light"
     },
     "output_type": "display_data"
    },
    {
     "data": {
      "image/png": "[encoded data removed]",
      "text/plain": [
       "<Figure size 576x288 with 1 Axes>"
      ]
     },
     "metadata": {
      "needs_background": "light"
     },
     "output_type": "display_data"
    }
   ],
   "source": [
    "from matplotlib import pyplot as plt\n",
    "\n",
    "def plot_errorbar(stats_dict):\n",
    "    fig,ax=plt.subplots(figsize=(8,4))\n",
    "    keys = stats_dict.keys()\n",
    "    means = [stats_dict[key]['mean'] for key in keys]\n",
    "    errs = [stats_dict[key]['std'] for key in keys]\n",
    "\n",
    "    ax.errorbar(keys, means,\n",
    "                yerr=errs,\\\n",
    "                fmt=\"o\",color=\"blue\",ecolor='grey',elinewidth=2,capsize=4)\n",
    "#     ax.set_xticklabels(col,rotation=45) #设置x轴刻度标签，并使其倾斜45度，不至于重叠\n",
    "\n",
    "plot_errorbar(dfs_pos_scores)\n",
    "plot_errorbar(beam_pos_scores)"
   ]
  },
  {
   "cell_type": "code",
   "execution_count": 54,
   "metadata": {},
   "outputs": [
    {
     "name": "stdout",
     "output_type": "stream",
     "text": [
      "1.0\n"
     ]
    }
   ],
   "source": [
    "def beam_match_dfs(beam_outputs, dfs_outputs):\n",
    "    check_dict = dict()\n",
    "    for key in dfs_outputs:\n",
    "        texts = [item[1] for item in dfs_outputs[key]]\n",
    "        check_dict[key] = set(texts)\n",
    "    # check beam outputs\n",
    "    n_cover = 0\n",
    "    n_cnt = 0\n",
    "    for key in beam_outputs:\n",
    "        for item in beam_outputs[key]:\n",
    "            n_cnt += 1\n",
    "            txt = item[1]\n",
    "            if txt in check_dict[key]:\n",
    "                n_cover += 1\n",
    "    return n_cover / n_cnt\n",
    "\n",
    "print(beam_match_dfs(beam_outputs, dfs_outputs))"
   ]
  },
  {
   "cell_type": "code",
   "execution_count": 55,
   "metadata": {},
   "outputs": [],
   "source": [
    "beam_top1s = get_top1(dbpe_detok_beam_outputs)\n",
    "dfs_top1s = get_top1(dbpe_detok_dfstopk_outputs)\n",
    "write_file(dfs_top1s, 'dfs.outs')\n",
    "write_file(beam_top1s, 'beam.outs')\n"
   ]
  },
  {
   "cell_type": "markdown",
   "metadata": {},
   "source": [
    "### analyze baseline model outputs"
   ]
  },
  {
   "cell_type": "code",
   "execution_count": 2,
   "metadata": {},
   "outputs": [],
   "source": [
    "import sys\n",
    "import os\n",
    "from collections import defaultdict\n",
    "import sacrebleu\n",
    "temp_path = 'ende_{}_wmt14.en-de.transformer'\n",
    "dfs_path = temp_path.format('dfstopk')\n",
    "beam_path = temp_path.format('beam')\n",
    "beam_size = 5"
   ]
  },
  {
   "cell_type": "code",
   "execution_count": 3,
   "metadata": {},
   "outputs": [],
   "source": [
    "def read_split_files(file_path, beam_size):\n",
    "    all_lines = dict()\n",
    "    for file in os.listdir(file_path):\n",
    "        cur_path = os.path.join(file_path, file)\n",
    "        with open(cur_path, 'r') as f:\n",
    "            lines = f.readlines()\n",
    "        num_suffix = file.split('.')[-1]\n",
    "        all_lines[int(num_suffix)] = lines\n",
    "    max_range = max([int(key) for key in all_lines])\n",
    "    assert max_range + 1 == len(all_lines)\n",
    "\n",
    "    ret = defaultdict(list)\n",
    "#     print(max_range)\n",
    "    for i in range(max_range+1):\n",
    "        offset = beam_size * i\n",
    "#         print(offset)\n",
    "        for line in all_lines[i]:\n",
    "            try:\n",
    "                splits = line.strip().split('|||')\n",
    "                assert len(splits) == 3\n",
    "            except:\n",
    "                print(i)\n",
    "                print(line)\n",
    "                print(splits)\n",
    "            idx, sent, score = splits\n",
    "            true_idx = offset + int(idx)\n",
    "            ret[true_idx].append((float(score), sent.strip()))\n",
    "    return ret\n",
    "beam_outputs = read_split_files(beam_path, beam_size)\n",
    "dfs_outputs = read_split_files(dfs_path, beam_size)"
   ]
  },
  {
   "cell_type": "code",
   "execution_count": 4,
   "metadata": {},
   "outputs": [
    {
     "data": {
      "text/plain": [
       "[(-9.055887, ''),\n",
       " (-11.160469, 'Nach ca .'),\n",
       " (-12.457957, 'Sie liegen ca .'),\n",
       " (-12.568825, 'ca .'),\n",
       " (-12.734378, 'Die ca .'),\n",
       " (-12.925178, 'Nach dem 2 .'),\n",
       " (-13.185588, 'Im 1 .'),\n",
       " (-13.254346, 'Sie liegen nicht ca .'),\n",
       " (-13.370504, 'Bei ca .'),\n",
       " (-13.51396, 'Zum 1 .')]"
      ]
     },
     "execution_count": 4,
     "metadata": {},
     "output_type": "execute_result"
    }
   ],
   "source": [
    "dfs_outputs[1]"
   ]
  },
  {
   "cell_type": "code",
   "execution_count": 5,
   "metadata": {},
   "outputs": [],
   "source": [
    "def read(file):\n",
    "    with open(file, 'r') as f:\n",
    "        lines = f.readlines()\n",
    "    lines = [line.strip() for line in lines]\n",
    "    return lines\n",
    "ref_file = './test.de.tok.detok'\n",
    "refs = read(ref_file)"
   ]
  },
  {
   "cell_type": "code",
   "execution_count": 6,
   "metadata": {},
   "outputs": [
    {
     "name": "stdout",
     "output_type": "stream",
     "text": [
      "BLEU = 26.17 57.5/31.9/19.8/12.9 (BP = 1.000 ratio = 1.013 hyp_len = 63546 ref_len = 62719)\n",
      "BLEU = 0.42 60.9/35.7/23.6/16.4 (BP = 0.014 ratio = 0.190 hyp_len = 11905 ref_len = 62719)\n"
     ]
    }
   ],
   "source": [
    "### delbpe && detok for texts, evaluate bleu scores\n",
    "import copy\n",
    "import subprocess\n",
    "def process_text_in_moses_format(output_dict, func):\n",
    "    all_texts = []\n",
    "    for i in range(len(output_dict)):\n",
    "        for j in range(len(output_dict[i])):\n",
    "            all_texts.append(output_dict[i][j][1])\n",
    "        \n",
    "    import tempfile\n",
    "    # write to temp file\n",
    "    f_temp = tempfile.NamedTemporaryFile(mode='w', encoding='utf8', delete=False)\n",
    "    temp_name = f_temp.name\n",
    "    for line in all_texts:\n",
    "        f_temp.write(line+'\\n')\n",
    "    f_temp.close()\n",
    "    ret_file_name = func(temp_name)\n",
    "    with open(ret_file_name, 'r', encoding='utf8') as f:\n",
    "        lines = f.readlines()\n",
    "    ret_texts = [line.strip() for line in lines]\n",
    "    \n",
    "    ret = copy.deepcopy(output_dict)\n",
    "    k = 0\n",
    "    # put back\n",
    "    for i in range(len(ret)):\n",
    "        for j in range(len(ret[i])):\n",
    "            ret[i][j] = (ret[i][j][0], ret_texts[k])\n",
    "            k += 1\n",
    "    return ret\n",
    "\n",
    "def call_delbpe(file_name):\n",
    "    subprocess.run(['bash', 'delbpe.sh', file_name])\n",
    "    return file_name + '.delbpe'\n",
    "\n",
    "def call_detok(file_name):\n",
    "    out_path = file_name + '.detok'\n",
    "    f1 = open(file_name, 'r')\n",
    "    f2 = open(out_path, 'w')\n",
    "    subprocess.run(['perl', 'detokenizer.perl'], stdin=f1, stdout=f2)\n",
    "    return out_path\n",
    "\n",
    "def call_delbpe_and_detok(file_name):\n",
    "    f1 = call_delbpe(file_name)\n",
    "    f2 = call_detok(f1)\n",
    "    return f2\n",
    "\n",
    "def get_top1(outputs):\n",
    "    ret = [None] * len(outputs)\n",
    "    for key in outputs:\n",
    "        ret[key] = outputs[key][0][1]\n",
    "    return ret\n",
    "def write_file(sents, file):\n",
    "    with open(file, 'w') as f:\n",
    "        for sent in sents:\n",
    "            f.write(sent + '\\n')\n",
    "\n",
    "\n",
    "dbpe_detok_beam_outputs = process_text_in_moses_format(beam_outputs, call_delbpe_and_detok)\n",
    "dbpe_detok_dfstopk_outputs = process_text_in_moses_format(dfs_outputs, call_delbpe_and_detok)\n",
    "beam_top1s = get_top1(dbpe_detok_beam_outputs)\n",
    "print(sacrebleu.corpus_bleu(beam_top1s, [refs]))\n",
    "dfs_top1s = get_top1(dbpe_detok_dfstopk_outputs)\n",
    "print(sacrebleu.corpus_bleu(dfs_top1s, [refs]))"
   ]
  },
  {
   "cell_type": "code",
   "execution_count": 7,
   "metadata": {},
   "outputs": [],
   "source": [
    "write_file(dfs_top1s, 'dfs.outs')\n",
    "write_file(beam_top1s, 'beam.outs')"
   ]
  },
  {
   "cell_type": "code",
   "execution_count": 8,
   "metadata": {},
   "outputs": [
    {
     "name": "stdout",
     "output_type": "stream",
     "text": [
      "Beam topk in dfs topk 0.35928223600827164.\n",
      "Beam top1 in dfs topk 0.6190476190476191.\n",
      "Beam top1 ranks dfs topk 1.1479289940828403.\n",
      "Beam top1 is dfs top1 0.31535131535131533.\n"
     ]
    }
   ],
   "source": [
    "### check coverage of beam search outputs\n",
    "def beam_match_dfs(beam_outputs, dfs_outputs):\n",
    "    check_dict = dict()\n",
    "    for key in dfs_outputs:\n",
    "        texts = [item[1] for item in dfs_outputs[key]]\n",
    "        check_dict[key] = set(texts)\n",
    "    # check beam outputs\n",
    "    n_cover = 0\n",
    "    n_cnt = 0\n",
    "    for key in beam_outputs:\n",
    "        for item in beam_outputs[key]:\n",
    "            n_cnt += 1\n",
    "            txt = item[1]\n",
    "            if txt in check_dict[key]:\n",
    "                n_cover += 1\n",
    "    return n_cover / n_cnt\n",
    "\n",
    "def beam_top1_match_dfs_ranks(beam_outputs, dfs_outputs):\n",
    "    check_dict = dict()\n",
    "    for key in dfs_outputs:\n",
    "        texts = [item[1] for item in dfs_outputs[key]]\n",
    "        check_dict[key] = texts\n",
    "    # check beam outputs\n",
    "    n_cover = 0\n",
    "    n_cnt = 0\n",
    "    ranks = []\n",
    "    for key in beam_outputs:\n",
    "        txt = beam_outputs[key][0][1]\n",
    "        rank = None\n",
    "        for i, ref in enumerate(check_dict[key]):\n",
    "            if txt == ref:\n",
    "                n_cover += 1\n",
    "                ranks.append(i)\n",
    "        \n",
    "    return n_cover / len(beam_outputs), sum(ranks) / len(ranks)\n",
    "\n",
    "def beam_top1_match_dfs_top1(beam_outputs, dfs_outputs):\n",
    "    check_dict = dict()\n",
    "    for key in dfs_outputs:\n",
    "        texts = [item[1] for item in dfs_outputs[key]]\n",
    "        check_dict[key] = texts\n",
    "    # check beam outputs\n",
    "    n_cover = 0\n",
    "    n_cnt = 0\n",
    "    ranks = []\n",
    "    for key in beam_outputs:\n",
    "        txt = beam_outputs[key][0][1]\n",
    "        rank = None\n",
    "        ref = check_dict[key][0]\n",
    "        if txt == ref:\n",
    "            n_cover += 1\n",
    "        \n",
    "    return n_cover / len(beam_outputs)\n",
    "\n",
    "\n",
    "top1_cover, top1_rank = beam_top1_match_dfs_ranks(dbpe_detok_beam_outputs, dbpe_detok_dfstopk_outputs)\n",
    "print(\"Beam topk in dfs topk {}.\".format(beam_match_dfs(dbpe_detok_beam_outputs, dbpe_detok_dfstopk_outputs)))\n",
    "print(\"Beam top1 in dfs topk {}.\".format(top1_cover))\n",
    "print(\"Beam top1 ranks dfs topk {}.\".format(top1_rank))\n",
    "print(\"Beam top1 is dfs top1 {}.\".format(beam_top1_match_dfs_top1(dbpe_detok_beam_outputs, dbpe_detok_dfstopk_outputs)))"
   ]
  },
  {
   "cell_type": "code",
   "execution_count": 102,
   "metadata": {},
   "outputs": [
    {
     "data": {
      "image/png": "[encoded data removed]",
      "text/plain": [
       "<Figure size 576x288 with 1 Axes>"
      ]
     },
     "metadata": {
      "needs_background": "light"
     },
     "output_type": "display_data"
    },
    {
     "data": {
      "image/png": "[encoded data removed]",
      "text/plain": [
       "<Figure size 576x288 with 1 Axes>"
      ]
     },
     "metadata": {
      "needs_background": "light"
     },
     "output_type": "display_data"
    }
   ],
   "source": [
    "### position scores\n",
    "from matplotlib import pyplot as plt\n",
    "from collections import defaultdict\n",
    "import numpy as np\n",
    "\n",
    "def score_all_outputs(output_dict, refs):\n",
    "    scores = []\n",
    "    for idx in output_dict:\n",
    "        cur_ref = refs[idx]\n",
    "        candidates = output_dict[idx]\n",
    "        candidates = [item[1] for item in candidates]\n",
    "        cur_scores = [sacrebleu.sentence_bleu(item, cur_ref).score for item in candidates]\n",
    "        scores.append(cur_scores)\n",
    "    return scores\n",
    "\n",
    "def collect_pos_stats(scores):\n",
    "    pos_scores = defaultdict(list)\n",
    "    for i in range(len(scores)):\n",
    "        for j in range(len(scores[i])):\n",
    "            pos_scores[j].append(scores[i][j])\n",
    "    for key in pos_scores:\n",
    "        pos_scores[key] = np.array(pos_scores[key])\n",
    "        pos_scores[key] = {\n",
    "            'mean': np.mean(pos_scores[key]),\n",
    "            'std': np.std(pos_scores[key]),\n",
    "        }\n",
    "    return pos_scores\n",
    "\n",
    "def plot_errorbar(stats_dict):\n",
    "    fig,ax=plt.subplots(figsize=(8,4))\n",
    "    keys = stats_dict.keys()\n",
    "    means = [stats_dict[key]['mean'] for key in keys]\n",
    "    errs = [stats_dict[key]['std'] for key in keys]\n",
    "\n",
    "    ax.errorbar(keys, means,\n",
    "                yerr=errs,\\\n",
    "                fmt=\"o\",color=\"blue\",ecolor='grey',elinewidth=2,capsize=4)\n",
    "    ax.set_xlabel('ranks')\n",
    "    ax.set_ylabel('BLEU')\n",
    "#     ax.set_xticklabels(col,rotation=45) #设置x轴刻度标签，并使其倾斜45度，不至于重叠\n",
    "\n",
    "beam_scores = score_all_outputs(dbpe_detok_beam_outputs, refs)\n",
    "dfstopk_scores = score_all_outputs(dbpe_detok_dfstopk_outputs, refs)\n",
    "\n",
    "beam_pos_scores = collect_pos_stats(beam_scores)\n",
    "dfs_pos_scores = collect_pos_stats(dfstopk_scores)\n",
    "\n",
    "plot_errorbar(dfs_pos_scores)\n",
    "plot_errorbar(beam_pos_scores)"
   ]
  },
  {
   "cell_type": "code",
   "execution_count": 10,
   "metadata": {},
   "outputs": [
    {
     "data": {
      "text/plain": [
       "defaultdict(list,\n",
       "            {0: {'mean': 6.7132306522293215, 'std': 17.811058216687815},\n",
       "             1: {'mean': 10.300752799155397, 'std': 19.201259714289755},\n",
       "             2: {'mean': 10.453928017204625, 'std': 18.949544628406645},\n",
       "             3: {'mean': 10.593056072905203, 'std': 19.142995585387304},\n",
       "             4: {'mean': 10.541437262289291, 'std': 18.775512922301502},\n",
       "             5: {'mean': 10.63876495103687, 'std': 18.79029130030869},\n",
       "             6: {'mean': 10.705813530927777, 'std': 18.83584318171147},\n",
       "             7: {'mean': 10.444280657293916, 'std': 18.549107445177608},\n",
       "             8: {'mean': 10.475913557725764, 'std': 18.29464152130391},\n",
       "             9: {'mean': 10.567897049790993, 'std': 18.41172119882995}})"
      ]
     },
     "execution_count": 10,
     "metadata": {},
     "output_type": "execute_result"
    }
   ],
   "source": [
    "dfs_pos_scores"
   ]
  },
  {
   "cell_type": "code",
   "execution_count": 103,
   "metadata": {},
   "outputs": [
    {
     "name": "stdout",
     "output_type": "stream",
     "text": [
      "Sum scores!\n",
      "Average scores!\n"
     ]
    },
    {
     "data": {
      "image/png": "[encoded data removed]",
      "text/plain": [
       "<Figure size 576x288 with 1 Axes>"
      ]
     },
     "metadata": {
      "needs_background": "light"
     },
     "output_type": "display_data"
    },
    {
     "data": {
      "image/png": "[encoded data removed]",
      "text/plain": [
       "<Figure size 576x288 with 1 Axes>"
      ]
     },
     "metadata": {
      "needs_background": "light"
     },
     "output_type": "display_data"
    },
    {
     "data": {
      "image/png": "[encoded data removed]",
      "text/plain": [
       "<Figure size 576x288 with 1 Axes>"
      ]
     },
     "metadata": {
      "needs_background": "light"
     },
     "output_type": "display_data"
    },
    {
     "data": {
      "image/png": "[encoded data removed]",
      "text/plain": [
       "<Figure size 576x288 with 1 Axes>"
      ]
     },
     "metadata": {
      "needs_background": "light"
     },
     "output_type": "display_data"
    }
   ],
   "source": [
    "### mean position scores\n",
    "from matplotlib import pyplot as plt\n",
    "from collections import defaultdict\n",
    "import numpy as np\n",
    "\n",
    "def extra_logprobs(output_dict):\n",
    "    scores = []\n",
    "    for idx in output_dict:\n",
    "        candidates = output_dict[idx]\n",
    "#         candidates = [item[1] for item in candidates]\n",
    "#         cur_scores = [sacrebleu.sentence_bleu(item, cur_ref).score for item in candidates]\n",
    "        cur_scores = [item[0] for item in candidates]\n",
    "        scores.append(cur_scores)\n",
    "    return scores\n",
    "\n",
    "def avg_logprobs(output_dict):\n",
    "    scores = []\n",
    "    for idx in output_dict:\n",
    "        candidates = output_dict[idx]\n",
    "#         candidates = [item[1] for item in candidates]\n",
    "#         cur_scores = [sacrebleu.sentence_bleu(item, cur_ref).score for item in candidates]\n",
    "        cur_scores = [item[0] for item in candidates]\n",
    "        lengths = [len(item[1])+1 for item in candidates]\n",
    "        avg_scores = [cur_scores[i] / lengths[i] for i in range(len(cur_scores))]\n",
    "        scores.append(avg_scores)\n",
    "    return scores\n",
    "\n",
    "def collect_pos_stats(scores):\n",
    "    pos_scores = defaultdict(list)\n",
    "    for i in range(len(scores)):\n",
    "        for j in range(len(scores[i])):\n",
    "            pos_scores[j].append(scores[i][j])\n",
    "    for key in pos_scores:\n",
    "        pos_scores[key] = np.array(pos_scores[key])\n",
    "        pos_scores[key] = {\n",
    "            'mean': np.mean(pos_scores[key]),\n",
    "            'std': np.std(pos_scores[key]),\n",
    "        }\n",
    "    return pos_scores\n",
    "\n",
    "def plot_errorbar(stats_dict):\n",
    "    fig,ax=plt.subplots(figsize=(8,4))\n",
    "    keys = stats_dict.keys()\n",
    "    means = [stats_dict[key]['mean'] for key in keys]\n",
    "    errs = [stats_dict[key]['std'] for key in keys]\n",
    "\n",
    "    ax.errorbar(keys, means,\n",
    "                yerr=errs,\\\n",
    "                fmt=\"o\",color=\"blue\",ecolor='grey',elinewidth=2,capsize=4)\n",
    "    ax.set_xlabel('ranks')\n",
    "    ax.set_ylabel('logprobs')\n",
    "\n",
    "#     ax.set_xticklabels(col,rotation=45) #设置x轴刻度标签，并使其倾斜45度，不至于重叠\n",
    "\n",
    "\n",
    "print('Sum scores!')\n",
    "# sum scores\n",
    "beam_logprobs = extra_logprobs(dbpe_detok_beam_outputs)\n",
    "dfstopk_logprobs = extra_logprobs(dbpe_detok_dfstopk_outputs)\n",
    "\n",
    "beam_pos_scores = collect_pos_stats(beam_logprobs)\n",
    "dfs_pos_scores = collect_pos_stats(dfstopk_logprobs)\n",
    "plot_errorbar(dfs_pos_scores)\n",
    "plot_errorbar(beam_pos_scores)\n",
    "\n",
    "print('Average scores!')\n",
    "# sum scores\n",
    "beam_avg = avg_logprobs(beam_outputs)\n",
    "dfstopk_avg = avg_logprobs(dfs_outputs)\n",
    "\n",
    "beam_pos_scores = collect_pos_stats(beam_avg)\n",
    "dfs_pos_scores = collect_pos_stats(dfstopk_avg)\n",
    "plot_errorbar(dfs_pos_scores)\n",
    "plot_errorbar(beam_pos_scores)"
   ]
  },
  {
   "cell_type": "code",
   "execution_count": 12,
   "metadata": {},
   "outputs": [
    {
     "name": "stdout",
     "output_type": "stream",
     "text": [
      "Beam oracle rank: 2.261072261072261\n",
      "dfs oracle rank: 2.7186147186147185\n",
      "Beam oracle score: 27.982202031245524\n",
      "dfs oracle score: 20.469624878088066\n"
     ]
    }
   ],
   "source": [
    "## oracle ranks && oracle scores\n",
    "\n",
    "from matplotlib import pyplot as plt\n",
    "from collections import defaultdict\n",
    "import numpy as np\n",
    "\n",
    "def score_all_outputs(output_dict, refs):\n",
    "    scores = []\n",
    "    for idx in output_dict:\n",
    "        cur_ref = refs[idx]\n",
    "        candidates = output_dict[idx]\n",
    "        candidates = [item[1] for item in candidates]\n",
    "        cur_scores = [sacrebleu.sentence_bleu(item, cur_ref).score for item in candidates]\n",
    "        scores.append(cur_scores)\n",
    "    return scores\n",
    "\n",
    "def collect_oracle_and_rank(scores):\n",
    "    ret = []\n",
    "    for each_scores in scores:\n",
    "        max_v = float('-inf')\n",
    "        max_i = -1\n",
    "        for i in range(len(each_scores)):\n",
    "            if each_scores[i] > max_v:\n",
    "                max_v = each_scores[i]\n",
    "                max_i = i\n",
    "        ret.append((max_i, max_v))\n",
    "    return ret\n",
    "\n",
    "beam_scores = score_all_outputs(dbpe_detok_beam_outputs, refs)\n",
    "dfstopk_scores = score_all_outputs(dbpe_detok_dfstopk_outputs, refs)\n",
    "\n",
    "beam_oracle_and_rank = collect_oracle_and_rank(beam_scores)\n",
    "dfs_oracle_and_rank = collect_oracle_and_rank(dfstopk_scores)\n",
    "\n",
    "print(\"Beam oracle rank: {}\".format(sum([item[0] for item in beam_oracle_and_rank]) / len(beam_oracle_and_rank)))\n",
    "print(\"dfs oracle rank: {}\".format(sum([item[0] for item in dfs_oracle_and_rank])/ len(beam_oracle_and_rank)))\n",
    "print(\"Beam oracle score: {}\".format(sum([item[1] for item in beam_oracle_and_rank])/ len(beam_oracle_and_rank)))\n",
    "print(\"dfs oracle score: {}\".format(sum([item[1] for item in dfs_oracle_and_rank])/ len(beam_oracle_and_rank)))"
   ]
  },
  {
   "cell_type": "code",
   "execution_count": 13,
   "metadata": {},
   "outputs": [],
   "source": [
    "def extra_logprobs(output_dict):\n",
    "    scores = []\n",
    "    for idx in output_dict:\n",
    "        candidates = output_dict[idx]\n",
    "#         candidates = [item[1] for item in candidates]\n",
    "#         cur_scores = [sacrebleu.sentence_bleu(item, cur_ref).score for item in candidates]\n",
    "        cur_scores = [item[0] for item in candidates]\n",
    "        scores.append(cur_scores)\n",
    "    return scores\n",
    "\n",
    "def mean(l):\n",
    "    return sum(l) / len(l)\n",
    "\n"
   ]
  },
  {
   "cell_type": "code",
   "execution_count": 14,
   "metadata": {},
   "outputs": [],
   "source": [
    "import sklearn\n",
    "import numpy as np\n",
    "\n",
    "np_beam_scores = [np.array(item) for item in beam_scores]\n",
    "np_dfs_scores = [np.array(item) for item in dfstopk_scores]\n",
    "beam_logprobs = extra_logprobs(dbpe_detok_beam_outputs)\n",
    "dfstopk_logprobs = extra_logprobs(dbpe_detok_dfstopk_outputs)\n",
    "np_beam_logprob = [np.array(item) for item in beam_logprobs]\n",
    "np_dfs_logprob = [np.array(item) for item in dfstopk_logprobs]\n",
    "\n",
    "def dcg_score(y_true, y_score, k=10, gains=\"exponential\"):\n",
    "    \"\"\"Discounted cumulative gain (DCG) at rank k\n",
    "    Parameters\n",
    "    ----------\n",
    "    y_true : array-like, shape = [n_samples]\n",
    "        Ground truth (true relevance labels).\n",
    "    y_score : array-like, shape = [n_samples]\n",
    "        Predicted scores.\n",
    "    k : int\n",
    "        Rank.\n",
    "    gains : str\n",
    "        Whether gains should be \"exponential\" (default) or \"linear\".\n",
    "    Returns\n",
    "    -------\n",
    "    DCG @k : float\n",
    "    \"\"\"\n",
    "    order = np.argsort(y_score)[::-1]\n",
    "    y_true = np.take(y_true, order[:k])\n",
    "\n",
    "    if gains == \"exponential\":\n",
    "        gains = 2 ** y_true - 1\n",
    "    elif gains == \"linear\":\n",
    "        gains = y_true\n",
    "    else:\n",
    "        raise ValueError(\"Invalid gains option.\")\n",
    "\n",
    "    # highest rank is 1 so +2 instead of +1\n",
    "    discounts = np.log2(np.arange(len(y_true)) + 2)\n",
    "    return np.sum(gains / discounts)\n",
    "\n",
    "\n",
    "def ndcg_score(y_true, y_score, k=10, gains=\"exponential\"):\n",
    "    \"\"\"Normalized discounted cumulative gain (NDCG) at rank k\n",
    "    Parameters\n",
    "    ----------\n",
    "    y_true : array-like, shape = [n_samples]\n",
    "        Ground truth (true relevance labels).\n",
    "    y_score : array-like, shape = [n_samples]\n",
    "        Predicted scores.\n",
    "    k : int\n",
    "        Rank.\n",
    "    gains : str\n",
    "        Whether gains should be \"exponential\" (default) or \"linear\".\n",
    "    Returns\n",
    "    -------\n",
    "    NDCG @k : float\n",
    "    \"\"\"\n",
    "    best = dcg_score(y_true, y_true, k, gains)\n",
    "    actual = dcg_score(y_true, y_score, k, gains)\n",
    "    if actual == 0:\n",
    "        ret = 0\n",
    "    else:\n",
    "        ret = actual / best\n",
    "    return ret\n",
    "\n",
    "def compute_ndcg_over_list(score_list, logprob_list):\n",
    "    ndcgs = []\n",
    "    for i in range(len(score_list)):\n",
    "        cur_score = score_list[i]\n",
    "        cur_logprob = logprob_list[i]\n",
    "        ndcgs.append(ndcg_score(cur_score, cur_logprob))\n",
    "    return ndcgs\n",
    "\n",
    "beam_ndcgs = compute_ndcg_over_list(np_beam_scores, np_beam_logprob)\n",
    "dfs_ndcgs = compute_ndcg_over_list(np_dfs_scores, np_dfs_logprob)"
   ]
  },
  {
   "cell_type": "markdown",
   "metadata": {},
   "source": [
    "## Define Model Error Metrics"
   ]
  },
  {
   "cell_type": "code",
   "execution_count": 99,
   "metadata": {},
   "outputs": [
    {
     "data": {
      "image/png": "[encoded data removed]",
      "text/plain": [
       "<Figure size 432x288 with 1 Axes>"
      ]
     },
     "metadata": {
      "needs_background": "light"
     },
     "output_type": "display_data"
    }
   ],
   "source": [
    "def paint_ndcg_cnt(all_scores, title):\n",
    "    all_bins = list(range(0, 10))\n",
    "    all_bins = [item / 10 for item in all_bins]\n",
    "\n",
    "    all_bins_cnts = [0] * 9\n",
    "    for score in all_scores:\n",
    "        for i in range(len(all_bins) - 1):\n",
    "            if score >= all_bins[i] and score < all_bins[i+1]:\n",
    "                all_bins_cnts[i] += 1\n",
    "    labels = [\"{}-{}\".format(all_bins[i], all_bins[i+1]) for i in range(len(all_bins)-1)]\n",
    "    fig, ax = plt.subplots()\n",
    "    ax.bar(list(range(len(all_bins_cnts))), all_bins_cnts, width=0.5)\n",
    "    ax.set_xticklabels(labels, rotation=-15)\n",
    "    ax.set_title(title,fontsize=16)\n",
    "\n",
    "    plt.show()\n",
    "\n",
    "# paint_ndcg_cnt(beam_ndcgs, \"beam ndcgs\")\n",
    "paint_ndcg_cnt(dfs_ndcgs, \"dfs ndcgs\")\n"
   ]
  },
  {
   "cell_type": "code",
   "execution_count": 100,
   "metadata": {
    "scrolled": true
   },
   "outputs": [
    {
     "data": {
      "text/plain": [
       "0.08080953438096296"
      ]
     },
     "execution_count": 100,
     "metadata": {},
     "output_type": "execute_result"
    }
   ],
   "source": [
    "def mean_reciprocal_rank(rs, sum_local=False):\n",
    "    \"\"\"Score is reciprocal of the rank of the first relevant item\n",
    "    First element is 'rank 1'.  Relevance is binary (nonzero is relevant).\n",
    "    Example from http://en.wikipedia.org/wiki/Mean_reciprocal_rank\n",
    "    >>> rs = [[0, 0, 1], [0, 1, 0], [1, 0, 0]]\n",
    "    >>> mean_reciprocal_rank(rs)\n",
    "    0.61111111111111105\n",
    "    >>> rs = np.array([[0, 0, 0], [0, 1, 0], [1, 0, 0]])\n",
    "    >>> mean_reciprocal_rank(rs)\n",
    "    0.5\n",
    "    >>> rs = [[0, 0, 0, 1], [1, 0, 0], [1, 0, 0]]\n",
    "    >>> mean_reciprocal_rank(rs)\n",
    "    0.75\n",
    "    Args:\n",
    "        rs: Iterator of relevance scores (list or numpy) in rank order\n",
    "            (first element is the first item)\n",
    "    Returns:\n",
    "        Mean reciprocal rank\n",
    "    \"\"\"\n",
    "    rs = [np.asarray(r).nonzero()[0] for r in rs]\n",
    "    if sum_local is True:\n",
    "        return np.mean([np.sum(1. / (r + 1)) if r.size else 0. for r in rs])\n",
    "    else:\n",
    "        return np.mean([1. / (r[0] + 1) if r.size else 0. for r in rs])\n",
    "\n",
    "\n",
    "def compute_mrr(score_list, threshold=40):\n",
    "    cnt = 0\n",
    "    rs = []\n",
    "    for score in score_list:\n",
    "        cur_rs = (score > threshold).astype(int)\n",
    "        rs.append(cur_rs)\n",
    "    mr = mean_reciprocal_rank(rs, sum_local=False)\n",
    "    return mr\n",
    "\n",
    "# compute_mrr(np_beam_scores, threshold=50)\n",
    "compute_mrr(np_dfs_scores, threshold=50)"
   ]
  },
  {
   "cell_type": "markdown",
   "metadata": {},
   "source": [
    "## Define Search Error Metrics"
   ]
  },
  {
   "cell_type": "code",
   "execution_count": null,
   "metadata": {},
   "outputs": [],
   "source": [
    "\"\"\"\n",
    "## from score's perspective && from output's perspective\n",
    "1. from score's perspective --> Suitable for decoding methods that don't modify the output scores (w/o other regualrization).\n",
    "    - If we have a decoding method A (e.g., beam search), we have following evaluation procotols.\n",
    "    - 1. score diff, the score difference between mode and output of A.\n",
    "    - 2. score mean diff\n",
    "    - 3. exact score distribution vs outputs score distribution\n",
    "2. from output's perspective --> Suitable for any decoding methods.\n",
    "    - Evaluate outputs by its properties.\n",
    "    - 1. length distribution: absolute length, relative length\n",
    "    - 2. matching stats: outputs in dfs, outputs' ranks in dfs\n",
    "    - 3. similarity: bleu score or edit distance for exact outputs and decoding outputs\n",
    "\"\"\""
   ]
  },
  {
   "cell_type": "markdown",
   "metadata": {},
   "source": [
    "## Other detailed research of model errors"
   ]
  },
  {
   "cell_type": "code",
   "execution_count": null,
   "metadata": {},
   "outputs": [],
   "source": []
  }
 ],
 "metadata": {
  "kernelspec": {
   "display_name": "Python 3",
   "language": "python",
   "name": "python3"
  },
  "language_info": {
   "codemirror_mode": {
    "name": "ipython",
    "version": 3
   },
   "file_extension": ".py",
   "mimetype": "text/x-python",
   "name": "python",
   "nbconvert_exporter": "python",
   "pygments_lexer": "ipython3",
   "version": "3.9.2"
  }
 },
 "nbformat": 4,
 "nbformat_minor": 4
}
