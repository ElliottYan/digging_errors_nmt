{
 "cells": [
  {
   "cell_type": "code",
   "execution_count": 2,
   "metadata": {},
   "outputs": [],
   "source": [
    "import sys\n",
    "import os\n",
    "from collections import defaultdict\n",
    "import sacrebleu\n",
    "\n",
    "temp_path = 'ende_{}_wmt14.en-de.transformer.para_ft'\n",
    "dfs_path = temp_path.format('dfstopk')\n",
    "beam_path = temp_path.format('beam')\n",
    "beam_size = 10"
   ]
  },
  {
   "cell_type": "code",
   "execution_count": 3,
   "metadata": {},
   "outputs": [],
   "source": [
    "def read_split_files(file_path, beam_size):\n",
    "    all_lines = dict()\n",
    "    for file in os.listdir(file_path):\n",
    "        cur_path = os.path.join(file_path, file)\n",
    "        with open(cur_path, 'r') as f:\n",
    "            lines = f.readlines()\n",
    "        num_suffix = file.split('.')[-1]\n",
    "        all_lines[int(num_suffix)] = lines\n",
    "    max_range = max([int(key) for key in all_lines])\n",
    "    assert max_range + 1 == len(all_lines)\n",
    "\n",
    "    ret = defaultdict(list)\n",
    "    for i in range(max_range+1):\n",
    "        offset = beam_size * i\n",
    "        for line in all_lines[i]:\n",
    "            splits = line.strip().split('|||')\n",
    "            assert len(splits) == 3\n",
    "            idx, sent, score = splits\n",
    "            true_idx = offset + int(idx)\n",
    "            ret[true_idx].append((float(score), sent.strip()))\n",
    "    return ret"
   ]
  },
  {
   "cell_type": "code",
   "execution_count": 4,
   "metadata": {},
   "outputs": [],
   "source": [
    "# call delbpe\n",
    "import subprocess\n",
    "\n",
    "def call_delbpe(input_dir):\n",
    "    output_dir = input_dir + '.delbpe'\n",
    "    print(output_dir)\n",
    "    subprocess.run(['mkdir', '-p', output_dir])\n",
    "    for file in os.listdir(input_dir):\n",
    "        if not file.endswith('delbpe'):\n",
    "            abs_path = os.path.join(input_dir, file)\n",
    "            out_path = os.path.join(output_dir, file)\n",
    "            subprocess.run(['bash', 'delbpe.sh', abs_path])\n",
    "            subprocess.run(['mv', abs_path+'.delbpe', out_path])\n",
    "            \n",
    "    return output_dir"
   ]
  },
  {
   "cell_type": "code",
   "execution_count": 5,
   "metadata": {},
   "outputs": [],
   "source": [
    "# call delbpe\n",
    "import subprocess\n",
    "\n",
    "def call_detok(input_dir):\n",
    "    output_dir = input_dir + '.detok'\n",
    "    print(output_dir)\n",
    "    subprocess.run(['mkdir', '-p', output_dir])\n",
    "    for file in os.listdir(input_dir):\n",
    "        if not file.endswith('detok'):\n",
    "            abs_path = os.path.join(input_dir, file)\n",
    "            out_path = os.path.join(output_dir, file)\n",
    "            f1 = open(abs_path, 'r')\n",
    "            f2 = open(out_path, 'w')\n",
    "            subprocess.run(['perl', 'detokenizer.perl'], stdin=f1, stdout=f2)\n",
    "            f1.close()\n",
    "            f2.close()\n",
    "#             subprocess.run(['mv', abs_path+'.delbpe', ])\n",
    "            \n",
    "    return output_dir"
   ]
  },
  {
   "cell_type": "code",
   "execution_count": 6,
   "metadata": {},
   "outputs": [
    {
     "name": "stdout",
     "output_type": "stream",
     "text": [
      "ende_beam_wmt14.en-de.transformer.para_ft.delbpe\n",
      "ende_dfstopk_wmt14.en-de.transformer.para_ft.delbpe\n"
     ]
    }
   ],
   "source": [
    "delbpe_beam_path = call_delbpe(beam_path)\n",
    "delbpe_dfs_path = call_delbpe(dfs_path)"
   ]
  },
  {
   "cell_type": "code",
   "execution_count": 7,
   "metadata": {},
   "outputs": [
    {
     "name": "stdout",
     "output_type": "stream",
     "text": [
      "ende_beam_wmt14.en-de.transformer.para_ft.delbpe.detok\n",
      "ende_beam_wmt14.en-de.transformer.para_ft.delbpe.detok\n"
     ]
    }
   ],
   "source": [
    "detok_delbpe_beam_path = call_detok(delbpe_beam_path)\n",
    "detok_delbpe_dfs_path = call_detok(delbpe_beam_path)"
   ]
  },
  {
   "cell_type": "code",
   "execution_count": 45,
   "metadata": {},
   "outputs": [],
   "source": [
    "beam_outputs = read_split_files(beam_path, beam_size)\n",
    "dfs_outputs = read_split_files(dfs_path, beam_size)"
   ]
  },
  {
   "cell_type": "code",
   "execution_count": 9,
   "metadata": {},
   "outputs": [],
   "source": [
    "def read(file):\n",
    "    with open(file, 'r') as f:\n",
    "        lines = f.readlines()\n",
    "    lines = [line.strip() for line in lines]\n",
    "    return lines\n",
    "ref_file = './test.de.tok.detok'\n",
    "refs = read(ref_file)"
   ]
  },
  {
   "cell_type": "code",
   "execution_count": 10,
   "metadata": {},
   "outputs": [
    {
     "data": {
      "text/plain": [
       "3003"
      ]
     },
     "execution_count": 10,
     "metadata": {},
     "output_type": "execute_result"
    }
   ],
   "source": [
    "len(refs)"
   ]
  },
  {
   "cell_type": "code",
   "execution_count": 29,
   "metadata": {},
   "outputs": [],
   "source": [
    "def score_all_outputs(output_dict, refs):\n",
    "    scores = []\n",
    "    for idx in output_dict:\n",
    "        cur_ref = refs[idx]\n",
    "        candidates = output_dict[idx]\n",
    "        candidates = [item[1] for item in candidates]\n",
    "        cur_scores = [sacrebleu.sentence_bleu(item, cur_ref).score for item in candidates]\n",
    "        scores.append(cur_scores)\n",
    "    return scores\n",
    "# beam_scores = score_all_outputs(beam_outputs, refs)"
   ]
  },
  {
   "cell_type": "code",
   "execution_count": 12,
   "metadata": {},
   "outputs": [
    {
     "name": "stdout",
     "output_type": "stream",
     "text": [
      "18.250411330999558\n"
     ]
    }
   ],
   "source": [
    "all_scores = []\n",
    "for i in range(len(beam_scores)):\n",
    "    for item in beam_scores[i]:\n",
    "        all_scores.append(item.score)\n",
    "print(sum(all_scores) / len(all_scores))"
   ]
  },
  {
   "cell_type": "code",
   "execution_count": 13,
   "metadata": {},
   "outputs": [],
   "source": [
    "def get_top1(outputs):\n",
    "    ret = [None] * len(outputs)\n",
    "    for key in outputs:\n",
    "        ret[key] = outputs[key][0][1]\n",
    "    return ret\n",
    "def write_file(sents, file):\n",
    "    with open(file, 'w') as f:\n",
    "        for sent in sents:\n",
    "            f.write(sent + '\\n')\n",
    "beam_top1s = get_top1(beam_outputs)\n",
    "write_file(beam_top1s, 'beam.outs')"
   ]
  },
  {
   "cell_type": "code",
   "execution_count": 14,
   "metadata": {},
   "outputs": [
    {
     "data": {
      "text/plain": [
       "16.883931426309903"
      ]
     },
     "execution_count": 14,
     "metadata": {},
     "output_type": "execute_result"
    }
   ],
   "source": [
    "beam_scores[50][1].score"
   ]
  },
  {
   "cell_type": "code",
   "execution_count": 107,
   "metadata": {},
   "outputs": [
    {
     "name": "stdout",
     "output_type": "stream",
     "text": [
      "3003\n",
      "3003\n"
     ]
    }
   ],
   "source": [
    "print(len(beam_outputs))\n",
    "print(len(dfs_outputs))"
   ]
  },
  {
   "cell_type": "code",
   "execution_count": 18,
   "metadata": {},
   "outputs": [
    {
     "name": "stdout",
     "output_type": "stream",
     "text": [
      "[(-3.93865, 'Gutach : Erhöhung der Sicherheit für Fußgänger'), (-4.273254, 'Gutach : Mehr Sicherheit für Fußgänger'), (-4.321206, 'Gutach : Erhöhte Sicherheit für Fußgänger'), (-4.95942, 'Reichweite : Erhöhung der Sicherheit für Fußgänger'), (-5.522714, 'Gutgang : Erhöhung der Sicherheit für Fußgänger'), (-5.709036, 'Bach : Erhöhung der Sicherheit für Fußgänger'), (-5.715024, 'Leistung : Erhöhung der Sicherheit für Fußgänger'), (-5.885941, 'Gutachter : Erhöhung der Sicherheit für Fußgänger'), (-6.366059, 'Ziel : Erhöhung der Sicherheit für Fußgänger'), (-7.154575, 'Gutach : Die Sicherheit für Fußgänger')]\n"
     ]
    }
   ],
   "source": [
    "print(beam_outputs[0])"
   ]
  },
  {
   "cell_type": "code",
   "execution_count": 46,
   "metadata": {
    "scrolled": false
   },
   "outputs": [],
   "source": [
    "import copy\n",
    "def process_text_in_moses_format(output_dict, func):\n",
    "    all_texts = []\n",
    "    for i in range(len(output_dict)):\n",
    "        for j in range(len(output_dict[i])):\n",
    "            all_texts.append(output_dict[i][j][1])\n",
    "        \n",
    "    import tempfile\n",
    "    # write to temp file\n",
    "    f_temp = tempfile.NamedTemporaryFile(mode='w', encoding='utf8', delete=False)\n",
    "    temp_name = f_temp.name\n",
    "    for line in all_texts:\n",
    "        f_temp.write(line+'\\n')\n",
    "    f_temp.close()\n",
    "    ret_file_name = func(temp_name)\n",
    "    with open(ret_file_name, 'r', encoding='utf8') as f:\n",
    "        lines = f.readlines()\n",
    "    ret_texts = [line.strip() for line in lines]\n",
    "    \n",
    "    ret = copy.deepcopy(output_dict)\n",
    "    k = 0\n",
    "    # put back\n",
    "    for i in range(len(ret)):\n",
    "        for j in range(len(ret[i])):\n",
    "            ret[i][j] = (ret[i][j][0], ret_texts[k])\n",
    "            k += 1\n",
    "    return ret\n",
    "\n",
    "def call_delbpe(file_name):\n",
    "    subprocess.run(['bash', 'delbpe.sh', file_name])\n",
    "    return file_name + '.delbpe'\n",
    "\n",
    "def call_detok(file_name):\n",
    "    out_path = file_name + '.detok'\n",
    "    f1 = open(file_name, 'r')\n",
    "    f2 = open(out_path, 'w')\n",
    "    subprocess.run(['perl', 'detokenizer.perl'], stdin=f1, stdout=f2)\n",
    "    return out_path\n",
    "\n",
    "def call_delbpe_and_detok(file_name):\n",
    "    f1 = call_delbpe(file_name)\n",
    "    f2 = call_detok(f1)\n",
    "    return f2\n",
    "\n",
    "dbpe_detok_beam_outputs = process_text_in_moses_format(beam_outputs, call_delbpe_and_detok)"
   ]
  },
  {
   "cell_type": "code",
   "execution_count": 47,
   "metadata": {
    "scrolled": true
   },
   "outputs": [
    {
     "name": "stdout",
     "output_type": "stream",
     "text": [
      "BLEU = 26.70 57.3/32.3/20.4/13.5 (BP = 1.000 ratio = 1.036 hyp_len = 64948 ref_len = 62719)\n"
     ]
    }
   ],
   "source": [
    "beam_top1s = get_top1(dbpe_detok_beam_outputs)\n",
    "print(sacrebleu.corpus_bleu(beam_top1s, [refs]))"
   ]
  },
  {
   "cell_type": "code",
   "execution_count": 48,
   "metadata": {},
   "outputs": [],
   "source": [
    "dbpe_detok_dfstopk_outputs = process_text_in_moses_format(dfs_outputs, call_delbpe_and_detok)"
   ]
  },
  {
   "cell_type": "code",
   "execution_count": 50,
   "metadata": {},
   "outputs": [
    {
     "name": "stdout",
     "output_type": "stream",
     "text": [
      "BLEU = 26.70 57.3/32.3/20.4/13.5 (BP = 1.000 ratio = 1.036 hyp_len = 64948 ref_len = 62719)\n"
     ]
    }
   ],
   "source": [
    "dfs_top1s = get_top1(dbpe_detok_dfstopk_outputs)\n",
    "print(sacrebleu.corpus_bleu(dfs_top1s, [refs]))\n",
    "write_file(dfs_top1s, 'dfs.outs')"
   ]
  },
  {
   "cell_type": "code",
   "execution_count": 30,
   "metadata": {},
   "outputs": [],
   "source": [
    "beam_scores = score_all_outputs(dbpe_detok_beam_outputs, refs)\n",
    "dfstopk_scores = score_all_outputs(dbpe_detok_dfstopk_outputs, refs)"
   ]
  },
  {
   "cell_type": "code",
   "execution_count": 38,
   "metadata": {},
   "outputs": [],
   "source": [
    "from collections import defaultdict\n",
    "import numpy as np\n",
    "def collect_pos_stats(scores):\n",
    "    pos_scores = defaultdict(list)\n",
    "    for i in range(len(scores)):\n",
    "        for j in range(len(scores[i])):\n",
    "            pos_scores[j].append(scores[i][j])\n",
    "    for key in pos_scores:\n",
    "        pos_scores[key] = np.array(pos_scores[key])\n",
    "        pos_scores[key] = {\n",
    "            'mean': np.mean(pos_scores[key]),\n",
    "            'std': np.std(pos_scores[key]),\n",
    "        }\n",
    "    return pos_scores\n",
    "\n",
    "beam_pos_scores = collect_pos_stats(beam_scores)\n",
    "dfs_pos_scores = collect_pos_stats(dfstopk_scores)"
   ]
  },
  {
   "cell_type": "code",
   "execution_count": 40,
   "metadata": {},
   "outputs": [
    {
     "name": "stdout",
     "output_type": "stream",
     "text": [
      "defaultdict(<class 'list'>, {0: {'mean': 20.74970116011649, 'std': 21.597381729234026}, 1: {'mean': 19.633633456812728, 'std': 20.436568823192456}, 2: {'mean': 19.726919453173267, 'std': 20.441516902652868}, 3: {'mean': 19.601352199124246, 'std': 20.288931039242172}, 4: {'mean': 19.09898318279514, 'std': 19.78601045340043}, 5: {'mean': 18.9456454764055, 'std': 19.671050240776243}, 6: {'mean': 19.008323678737344, 'std': 19.808169985374946}, 7: {'mean': 18.72328988844938, 'std': 19.66063263137844}, 8: {'mean': 18.390385084119487, 'std': 19.124830412555717}, 9: {'mean': 18.059199669509955, 'std': 19.063192236516006}})\n"
     ]
    }
   ],
   "source": [
    "print(dfs_pos_scores)"
   ]
  },
  {
   "cell_type": "code",
   "execution_count": 44,
   "metadata": {},
   "outputs": [
    {
     "data": {
      "image/png": "[encoded data removed]",
      "text/plain": [
       "<Figure size 576x288 with 1 Axes>"
      ]
     },
     "metadata": {
      "needs_background": "light"
     },
     "output_type": "display_data"
    },
    {
     "data": {
      "image/png": "[encoded data removed]",
      "text/plain": [
       "<Figure size 576x288 with 1 Axes>"
      ]
     },
     "metadata": {
      "needs_background": "light"
     },
     "output_type": "display_data"
    }
   ],
   "source": [
    "from matplotlib import pyplot as plt\n",
    "\n",
    "def plot_errorbar(stats_dict):\n",
    "    fig,ax=plt.subplots(figsize=(8,4))\n",
    "    keys = stats_dict.keys()\n",
    "    means = [stats_dict[key]['mean'] for key in keys]\n",
    "    errs = [stats_dict[key]['std'] for key in keys]\n",
    "\n",
    "    ax.errorbar(keys, means,\n",
    "                yerr=errs,\\\n",
    "                fmt=\"o\",color=\"blue\",ecolor='grey',elinewidth=2,capsize=4)\n",
    "#     ax.set_xticklabels(col,rotation=45) #设置x轴刻度标签，并使其倾斜45度，不至于重叠\n",
    "\n",
    "plot_errorbar(dfs_pos_scores)\n",
    "plot_errorbar(beam_pos_scores)"
   ]
  },
  {
   "cell_type": "code",
   "execution_count": 54,
   "metadata": {},
   "outputs": [
    {
     "name": "stdout",
     "output_type": "stream",
     "text": [
      "1.0\n"
     ]
    }
   ],
   "source": [
    "def beam_match_dfs(beam_outputs, dfs_outputs):\n",
    "    check_dict = dict()\n",
    "    for key in dfs_outputs:\n",
    "        texts = [item[1] for item in dfs_outputs[key]]\n",
    "        check_dict[key] = set(texts)\n",
    "    # check beam outputs\n",
    "    n_cover = 0\n",
    "    n_cnt = 0\n",
    "    for key in beam_outputs:\n",
    "        for item in beam_outputs[key]:\n",
    "            n_cnt += 1\n",
    "            txt = item[1]\n",
    "            if txt in check_dict[key]:\n",
    "                n_cover += 1\n",
    "    return n_cover / n_cnt\n",
    "\n",
    "print(beam_match_dfs(beam_outputs, dfs_outputs))"
   ]
  },
  {
   "cell_type": "code",
   "execution_count": 55,
   "metadata": {},
   "outputs": [],
   "source": [
    "beam_top1s = get_top1(dbpe_detok_beam_outputs)\n",
    "dfs_top1s = get_top1(dbpe_detok_dfstopk_outputs)\n",
    "write_file(dfs_top1s, 'dfs.outs')\n",
    "write_file(beam_top1s, 'beam.outs')\n"
   ]
  },
  {
   "cell_type": "markdown",
   "metadata": {},
   "source": [
    "### analyze baseline model outputs"
   ]
  },
  {
   "cell_type": "code",
   "execution_count": 2,
   "metadata": {},
   "outputs": [],
   "source": [
    "import sys\n",
    "import os\n",
    "from collections import defaultdict\n",
    "import sacrebleu\n",
    "temp_path = 'ende_{}_wmt14.en-de.transformer'\n",
    "dfs_path = temp_path.format('dfstopk')\n",
    "beam_path = temp_path.format('beam')\n",
    "beam_size = 5"
   ]
  },
  {
   "cell_type": "code",
   "execution_count": 3,
   "metadata": {},
   "outputs": [],
   "source": [
    "def read_split_files(file_path, beam_size):\n",
    "    all_lines = dict()\n",
    "    for file in os.listdir(file_path):\n",
    "        cur_path = os.path.join(file_path, file)\n",
    "        with open(cur_path, 'r') as f:\n",
    "            lines = f.readlines()\n",
    "        num_suffix = file.split('.')[-1]\n",
    "        all_lines[int(num_suffix)] = lines\n",
    "    max_range = max([int(key) for key in all_lines])\n",
    "    assert max_range + 1 == len(all_lines)\n",
    "\n",
    "    ret = defaultdict(list)\n",
    "#     print(max_range)\n",
    "    for i in range(max_range+1):\n",
    "        offset = beam_size * i\n",
    "#         print(offset)\n",
    "        for line in all_lines[i]:\n",
    "            try:\n",
    "                splits = line.strip().split('|||')\n",
    "                assert len(splits) == 3\n",
    "            except:\n",
    "                print(i)\n",
    "                print(line)\n",
    "                print(splits)\n",
    "            idx, sent, score = splits\n",
    "            true_idx = offset + int(idx)\n",
    "            ret[true_idx].append((float(score), sent.strip()))\n",
    "    return ret\n",
    "beam_outputs = read_split_files(beam_path, beam_size)\n",
    "dfs_outputs = read_split_files(dfs_path, beam_size)"
   ]
  },
  {
   "cell_type": "code",
   "execution_count": 4,
   "metadata": {},
   "outputs": [
    {
     "data": {
      "text/plain": [
       "[(-9.055887, ''),\n",
       " (-11.160469, 'Nach ca .'),\n",
       " (-12.457957, 'Sie liegen ca .'),\n",
       " (-12.568825, 'ca .'),\n",
       " (-12.734378, 'Die ca .'),\n",
       " (-12.925178, 'Nach dem 2 .'),\n",
       " (-13.185588, 'Im 1 .'),\n",
       " (-13.254346, 'Sie liegen nicht ca .'),\n",
       " (-13.370504, 'Bei ca .'),\n",
       " (-13.51396, 'Zum 1 .')]"
      ]
     },
     "execution_count": 4,
     "metadata": {},
     "output_type": "execute_result"
    }
   ],
   "source": [
    "dfs_outputs[1]"
   ]
  },
  {
   "cell_type": "code",
   "execution_count": 5,
   "metadata": {},
   "outputs": [],
   "source": [
    "def read(file):\n",
    "    with open(file, 'r') as f:\n",
    "        lines = f.readlines()\n",
    "    lines = [line.strip() for line in lines]\n",
    "    return lines\n",
    "ref_file = './test.de.tok.detok'\n",
    "refs = read(ref_file)"
   ]
  },
  {
   "cell_type": "code",
   "execution_count": 6,
   "metadata": {},
   "outputs": [
    {
     "name": "stdout",
     "output_type": "stream",
     "text": [
      "BLEU = 26.17 57.5/31.9/19.8/12.9 (BP = 1.000 ratio = 1.013 hyp_len = 63546 ref_len = 62719)\n",
      "BLEU = 0.42 60.9/35.7/23.6/16.4 (BP = 0.014 ratio = 0.190 hyp_len = 11905 ref_len = 62719)\n"
     ]
    }
   ],
   "source": [
    "### delbpe && detok for texts, evaluate bleu scores\n",
    "import copy\n",
    "import subprocess\n",
    "def process_text_in_moses_format(output_dict, func):\n",
    "    all_texts = []\n",
    "    for i in range(len(output_dict)):\n",
    "        for j in range(len(output_dict[i])):\n",
    "            all_texts.append(output_dict[i][j][1])\n",
    "        \n",
    "    import tempfile\n",
    "    # write to temp file\n",
    "    f_temp = tempfile.NamedTemporaryFile(mode='w', encoding='utf8', delete=False)\n",
    "    temp_name = f_temp.name\n",
    "    for line in all_texts:\n",
    "        f_temp.write(line+'\\n')\n",
    "    f_temp.close()\n",
    "    ret_file_name = func(temp_name)\n",
    "    with open(ret_file_name, 'r', encoding='utf8') as f:\n",
    "        lines = f.readlines()\n",
    "    ret_texts = [line.strip() for line in lines]\n",
    "    \n",
    "    ret = copy.deepcopy(output_dict)\n",
    "    k = 0\n",
    "    # put back\n",
    "    for i in range(len(ret)):\n",
    "        for j in range(len(ret[i])):\n",
    "            ret[i][j] = (ret[i][j][0], ret_texts[k])\n",
    "            k += 1\n",
    "    return ret\n",
    "\n",
    "def call_delbpe(file_name):\n",
    "    subprocess.run(['bash', 'delbpe.sh', file_name])\n",
    "    return file_name + '.delbpe'\n",
    "\n",
    "def call_detok(file_name):\n",
    "    out_path = file_name + '.detok'\n",
    "    f1 = open(file_name, 'r')\n",
    "    f2 = open(out_path, 'w')\n",
    "    subprocess.run(['perl', 'detokenizer.perl'], stdin=f1, stdout=f2)\n",
    "    return out_path\n",
    "\n",
    "def call_delbpe_and_detok(file_name):\n",
    "    f1 = call_delbpe(file_name)\n",
    "    f2 = call_detok(f1)\n",
    "    return f2\n",
    "\n",
    "def get_top1(outputs):\n",
    "    ret = [None] * len(outputs)\n",
    "    for key in outputs:\n",
    "        ret[key] = outputs[key][0][1]\n",
    "    return ret\n",
    "def write_file(sents, file):\n",
    "    with open(file, 'w') as f:\n",
    "        for sent in sents:\n",
    "            f.write(sent + '\\n')\n",
    "\n",
    "\n",
    "dbpe_detok_beam_outputs = process_text_in_moses_format(beam_outputs, call_delbpe_and_detok)\n",
    "dbpe_detok_dfstopk_outputs = process_text_in_moses_format(dfs_outputs, call_delbpe_and_detok)\n",
    "beam_top1s = get_top1(dbpe_detok_beam_outputs)\n",
    "print(sacrebleu.corpus_bleu(beam_top1s, [refs]))\n",
    "dfs_top1s = get_top1(dbpe_detok_dfstopk_outputs)\n",
    "print(sacrebleu.corpus_bleu(dfs_top1s, [refs]))"
   ]
  },
  {
   "cell_type": "code",
   "execution_count": 7,
   "metadata": {},
   "outputs": [],
   "source": [
    "write_file(dfs_top1s, 'dfs.outs')\n",
    "write_file(beam_top1s, 'beam.outs')"
   ]
  },
  {
   "cell_type": "code",
   "execution_count": 8,
   "metadata": {},
   "outputs": [
    {
     "name": "stdout",
     "output_type": "stream",
     "text": [
      "Beam topk in dfs topk 0.35928223600827164.\n",
      "Beam top1 in dfs topk 0.6190476190476191.\n",
      "Beam top1 ranks dfs topk 1.1479289940828403.\n",
      "Beam top1 is dfs top1 0.31535131535131533.\n"
     ]
    }
   ],
   "source": [
    "### check coverage of beam search outputs\n",
    "def beam_match_dfs(beam_outputs, dfs_outputs):\n",
    "    check_dict = dict()\n",
    "    for key in dfs_outputs:\n",
    "        texts = [item[1] for item in dfs_outputs[key]]\n",
    "        check_dict[key] = set(texts)\n",
    "    # check beam outputs\n",
    "    n_cover = 0\n",
    "    n_cnt = 0\n",
    "    for key in beam_outputs:\n",
    "        for item in beam_outputs[key]:\n",
    "            n_cnt += 1\n",
    "            txt = item[1]\n",
    "            if txt in check_dict[key]:\n",
    "                n_cover += 1\n",
    "    return n_cover / n_cnt\n",
    "\n",
    "def beam_top1_match_dfs_ranks(beam_outputs, dfs_outputs):\n",
    "    check_dict = dict()\n",
    "    for key in dfs_outputs:\n",
    "        texts = [item[1] for item in dfs_outputs[key]]\n",
    "        check_dict[key] = texts\n",
    "    # check beam outputs\n",
    "    n_cover = 0\n",
    "    n_cnt = 0\n",
    "    ranks = []\n",
    "    for key in beam_outputs:\n",
    "        txt = beam_outputs[key][0][1]\n",
    "        rank = None\n",
    "        for i, ref in enumerate(check_dict[key]):\n",
    "            if txt == ref:\n",
    "                n_cover += 1\n",
    "                ranks.append(i)\n",
    "        \n",
    "    return n_cover / len(beam_outputs), sum(ranks) / len(ranks)\n",
    "\n",
    "def beam_top1_match_dfs_top1(beam_outputs, dfs_outputs):\n",
    "    check_dict = dict()\n",
    "    for key in dfs_outputs:\n",
    "        texts = [item[1] for item in dfs_outputs[key]]\n",
    "        check_dict[key] = texts\n",
    "    # check beam outputs\n",
    "    n_cover = 0\n",
    "    n_cnt = 0\n",
    "    ranks = []\n",
    "    for key in beam_outputs:\n",
    "        txt = beam_outputs[key][0][1]\n",
    "        rank = None\n",
    "        ref = check_dict[key][0]\n",
    "        if txt == ref:\n",
    "            n_cover += 1\n",
    "        \n",
    "    return n_cover / len(beam_outputs)\n",
    "\n",
    "\n",
    "top1_cover, top1_rank = beam_top1_match_dfs_ranks(dbpe_detok_beam_outputs, dbpe_detok_dfstopk_outputs)\n",
    "print(\"Beam topk in dfs topk {}.\".format(beam_match_dfs(dbpe_detok_beam_outputs, dbpe_detok_dfstopk_outputs)))\n",
    "print(\"Beam top1 in dfs topk {}.\".format(top1_cover))\n",
    "print(\"Beam top1 ranks dfs topk {}.\".format(top1_rank))\n",
    "print(\"Beam top1 is dfs top1 {}.\".format(beam_top1_match_dfs_top1(dbpe_detok_beam_outputs, dbpe_detok_dfstopk_outputs)))"
   ]
  },
  {
   "cell_type": "code",
   "execution_count": 9,
   "metadata": {},
   "outputs": [
    {
     "data": {
      "image/png": "[encoded data removed]",
      "text/plain": [
       "<Figure size 576x288 with 1 Axes>"
      ]
     },
     "metadata": {
      "needs_background": "light"
     },
     "output_type": "display_data"
    },
    {
     "data": {
      "image/png": "[encoded data removed]",
      "text/plain": [
       "<Figure size 576x288 with 1 Axes>"
      ]
     },
     "metadata": {
      "needs_background": "light"
     },
     "output_type": "display_data"
    }
   ],
   "source": [
    "### position scores\n",
    "from matplotlib import pyplot as plt\n",
    "from collections import defaultdict\n",
    "import numpy as np\n",
    "\n",
    "def score_all_outputs(output_dict, refs):\n",
    "    scores = []\n",
    "    for idx in output_dict:\n",
    "        cur_ref = refs[idx]\n",
    "        candidates = output_dict[idx]\n",
    "        candidates = [item[1] for item in candidates]\n",
    "        cur_scores = [sacrebleu.sentence_bleu(item, cur_ref).score for item in candidates]\n",
    "        scores.append(cur_scores)\n",
    "    return scores\n",
    "\n",
    "def collect_pos_stats(scores):\n",
    "    pos_scores = defaultdict(list)\n",
    "    for i in range(len(scores)):\n",
    "        for j in range(len(scores[i])):\n",
    "            pos_scores[j].append(scores[i][j])\n",
    "    for key in pos_scores:\n",
    "        pos_scores[key] = np.array(pos_scores[key])\n",
    "        pos_scores[key] = {\n",
    "            'mean': np.mean(pos_scores[key]),\n",
    "            'std': np.std(pos_scores[key]),\n",
    "        }\n",
    "    return pos_scores\n",
    "\n",
    "def plot_errorbar(stats_dict):\n",
    "    fig,ax=plt.subplots(figsize=(8,4))\n",
    "    keys = stats_dict.keys()\n",
    "    means = [stats_dict[key]['mean'] for key in keys]\n",
    "    errs = [stats_dict[key]['std'] for key in keys]\n",
    "\n",
    "    ax.errorbar(keys, means,\n",
    "                yerr=errs,\\\n",
    "                fmt=\"o\",color=\"blue\",ecolor='grey',elinewidth=2,capsize=4)\n",
    "#     ax.set_xticklabels(col,rotation=45) #设置x轴刻度标签，并使其倾斜45度，不至于重叠\n",
    "\n",
    "beam_scores = score_all_outputs(dbpe_detok_beam_outputs, refs)\n",
    "dfstopk_scores = score_all_outputs(dbpe_detok_dfstopk_outputs, refs)\n",
    "\n",
    "beam_pos_scores = collect_pos_stats(beam_scores)\n",
    "dfs_pos_scores = collect_pos_stats(dfstopk_scores)\n",
    "\n",
    "plot_errorbar(dfs_pos_scores)\n",
    "plot_errorbar(beam_pos_scores)"
   ]
  },
  {
   "cell_type": "code",
   "execution_count": 10,
   "metadata": {},
   "outputs": [
    {
     "data": {
      "text/plain": [
       "defaultdict(list,\n",
       "            {0: {'mean': 6.7132306522293215, 'std': 17.811058216687815},\n",
       "             1: {'mean': 10.300752799155397, 'std': 19.201259714289755},\n",
       "             2: {'mean': 10.453928017204625, 'std': 18.949544628406645},\n",
       "             3: {'mean': 10.593056072905203, 'std': 19.142995585387304},\n",
       "             4: {'mean': 10.541437262289291, 'std': 18.775512922301502},\n",
       "             5: {'mean': 10.63876495103687, 'std': 18.79029130030869},\n",
       "             6: {'mean': 10.705813530927777, 'std': 18.83584318171147},\n",
       "             7: {'mean': 10.444280657293916, 'std': 18.549107445177608},\n",
       "             8: {'mean': 10.475913557725764, 'std': 18.29464152130391},\n",
       "             9: {'mean': 10.567897049790993, 'std': 18.41172119882995}})"
      ]
     },
     "execution_count": 10,
     "metadata": {},
     "output_type": "execute_result"
    }
   ],
   "source": [
    "dfs_pos_scores"
   ]
  },
  {
   "cell_type": "code",
   "execution_count": 11,
   "metadata": {},
   "outputs": [
    {
     "name": "stdout",
     "output_type": "stream",
     "text": [
      "Sum scores!\n",
      "Average scores!\n"
     ]
    },
    {
     "data": {
      "image/png": "[encoded data removed]",
      "text/plain": [
       "<Figure size 576x288 with 1 Axes>"
      ]
     },
     "metadata": {
      "needs_background": "light"
     },
     "output_type": "display_data"
    },
    {
     "data": {
      "image/png": "[encoded data removed]",
      "text/plain": [
       "<Figure size 576x288 with 1 Axes>"
      ]
     },
     "metadata": {
      "needs_background": "light"
     },
     "output_type": "display_data"
    },
    {
     "data": {
      "image/png": "[encoded data removed]",
      "text/plain": [
       "<Figure size 576x288 with 1 Axes>"
      ]
     },
     "metadata": {
      "needs_background": "light"
     },
     "output_type": "display_data"
    },
    {
     "data": {
      "image/png": "[encoded data removed]",
      "text/plain": [
       "<Figure size 576x288 with 1 Axes>"
      ]
     },
     "metadata": {
      "needs_background": "light"
     },
     "output_type": "display_data"
    }
   ],
   "source": [
    "### mean position scores\n",
    "from matplotlib import pyplot as plt\n",
    "from collections import defaultdict\n",
    "import numpy as np\n",
    "\n",
    "def extra_logprobs(output_dict):\n",
    "    scores = []\n",
    "    for idx in output_dict:\n",
    "        candidates = output_dict[idx]\n",
    "#         candidates = [item[1] for item in candidates]\n",
    "#         cur_scores = [sacrebleu.sentence_bleu(item, cur_ref).score for item in candidates]\n",
    "        cur_scores = [item[0] for item in candidates]\n",
    "        scores.append(cur_scores)\n",
    "    return scores\n",
    "\n",
    "def avg_logprobs(output_dict):\n",
    "    scores = []\n",
    "    for idx in output_dict:\n",
    "        candidates = output_dict[idx]\n",
    "#         candidates = [item[1] for item in candidates]\n",
    "#         cur_scores = [sacrebleu.sentence_bleu(item, cur_ref).score for item in candidates]\n",
    "        cur_scores = [item[0] for item in candidates]\n",
    "        lengths = [len(item[1])+1 for item in candidates]\n",
    "        avg_scores = [cur_scores[i] / lengths[i] for i in range(len(cur_scores))]\n",
    "        scores.append(avg_scores)\n",
    "    return scores\n",
    "\n",
    "def collect_pos_stats(scores):\n",
    "    pos_scores = defaultdict(list)\n",
    "    for i in range(len(scores)):\n",
    "        for j in range(len(scores[i])):\n",
    "            pos_scores[j].append(scores[i][j])\n",
    "    for key in pos_scores:\n",
    "        pos_scores[key] = np.array(pos_scores[key])\n",
    "        pos_scores[key] = {\n",
    "            'mean': np.mean(pos_scores[key]),\n",
    "            'std': np.std(pos_scores[key]),\n",
    "        }\n",
    "    return pos_scores\n",
    "\n",
    "def plot_errorbar(stats_dict):\n",
    "    fig,ax=plt.subplots(figsize=(8,4))\n",
    "    keys = stats_dict.keys()\n",
    "    means = [stats_dict[key]['mean'] for key in keys]\n",
    "    errs = [stats_dict[key]['std'] for key in keys]\n",
    "\n",
    "    ax.errorbar(keys, means,\n",
    "                yerr=errs,\\\n",
    "                fmt=\"o\",color=\"blue\",ecolor='grey',elinewidth=2,capsize=4)\n",
    "#     ax.set_xticklabels(col,rotation=45) #设置x轴刻度标签，并使其倾斜45度，不至于重叠\n",
    "\n",
    "\n",
    "print('Sum scores!')\n",
    "# sum scores\n",
    "beam_logprobs = extra_logprobs(dbpe_detok_beam_outputs)\n",
    "dfstopk_logprobs = extra_logprobs(dbpe_detok_dfstopk_outputs)\n",
    "\n",
    "beam_pos_scores = collect_pos_stats(beam_logprobs)\n",
    "dfs_pos_scores = collect_pos_stats(dfstopk_logprobs)\n",
    "plot_errorbar(dfs_pos_scores)\n",
    "plot_errorbar(beam_pos_scores)\n",
    "\n",
    "print('Average scores!')\n",
    "# sum scores\n",
    "beam_avg = avg_logprobs(beam_outputs)\n",
    "dfstopk_avg = avg_logprobs(dfs_outputs)\n",
    "\n",
    "beam_pos_scores = collect_pos_stats(beam_avg)\n",
    "dfs_pos_scores = collect_pos_stats(dfstopk_avg)\n",
    "plot_errorbar(dfs_pos_scores)\n",
    "plot_errorbar(beam_pos_scores)"
   ]
  },
  {
   "cell_type": "code",
   "execution_count": 12,
   "metadata": {},
   "outputs": [
    {
     "name": "stdout",
     "output_type": "stream",
     "text": [
      "Beam oracle rank: 2.261072261072261\n",
      "dfs oracle rank: 2.7186147186147185\n",
      "Beam oracle score: 27.982202031245524\n",
      "dfs oracle score: 20.469624878088066\n"
     ]
    }
   ],
   "source": [
    "## oracle ranks && oracle scores\n",
    "\n",
    "from matplotlib import pyplot as plt\n",
    "from collections import defaultdict\n",
    "import numpy as np\n",
    "\n",
    "def score_all_outputs(output_dict, refs):\n",
    "    scores = []\n",
    "    for idx in output_dict:\n",
    "        cur_ref = refs[idx]\n",
    "        candidates = output_dict[idx]\n",
    "        candidates = [item[1] for item in candidates]\n",
    "        cur_scores = [sacrebleu.sentence_bleu(item, cur_ref).score for item in candidates]\n",
    "        scores.append(cur_scores)\n",
    "    return scores\n",
    "\n",
    "def collect_oracle_and_rank(scores):\n",
    "    ret = []\n",
    "    for each_scores in scores:\n",
    "        max_v = float('-inf')\n",
    "        max_i = -1\n",
    "        for i in range(len(each_scores)):\n",
    "            if each_scores[i] > max_v:\n",
    "                max_v = each_scores[i]\n",
    "                max_i = i\n",
    "        ret.append((max_i, max_v))\n",
    "    return ret\n",
    "\n",
    "beam_scores = score_all_outputs(dbpe_detok_beam_outputs, refs)\n",
    "dfstopk_scores = score_all_outputs(dbpe_detok_dfstopk_outputs, refs)\n",
    "\n",
    "beam_oracle_and_rank = collect_oracle_and_rank(beam_scores)\n",
    "dfs_oracle_and_rank = collect_oracle_and_rank(dfstopk_scores)\n",
    "\n",
    "print(\"Beam oracle rank: {}\".format(sum([item[0] for item in beam_oracle_and_rank]) / len(beam_oracle_and_rank)))\n",
    "print(\"dfs oracle rank: {}\".format(sum([item[0] for item in dfs_oracle_and_rank])/ len(beam_oracle_and_rank)))\n",
    "print(\"Beam oracle score: {}\".format(sum([item[1] for item in beam_oracle_and_rank])/ len(beam_oracle_and_rank)))\n",
    "print(\"dfs oracle score: {}\".format(sum([item[1] for item in dfs_oracle_and_rank])/ len(beam_oracle_and_rank)))"
   ]
  },
  {
   "cell_type": "code",
   "execution_count": 18,
   "metadata": {},
   "outputs": [],
   "source": [
    "def extra_logprobs(output_dict):\n",
    "    scores = []\n",
    "    for idx in output_dict:\n",
    "        candidates = output_dict[idx]\n",
    "#         candidates = [item[1] for item in candidates]\n",
    "#         cur_scores = [sacrebleu.sentence_bleu(item, cur_ref).score for item in candidates]\n",
    "        cur_scores = [item[0] for item in candidates]\n",
    "        scores.append(cur_scores)\n",
    "    return scores\n",
    "\n",
    "def mean(l):\n",
    "    return sum(l) / len(l)\n",
    "\n"
   ]
  },
  {
   "cell_type": "code",
   "execution_count": 31,
   "metadata": {},
   "outputs": [
    {
     "name": "stdout",
     "output_type": "stream",
     "text": [
      "[0, 0.8654711988356985, 0.9197207891481877, 0.3154648767857287, 0, 0, 0.4818850339157583, 0.5615780594031359, 0.35157867956556393, 0.3333333339829687, 0.5775155120451321, 0.9162777003134039, 0.35157153522036055, 0.7090262332715304, 0.302702622123024, 0.9015988068718651, 0.4416413524205277, 0, 0.5023957126722186, 0, 0.5594978307134649, 0.6309820651848621, 0.8733518926561253, 0, 0.6317469215547955, 0.7573765176751017, 0.9901963155035449, 0, 0.9802808686039022, 0.43295493150129777, 0.6545622631063743, 0, 0.9526497220956368, 0, 0, 0.9149097457473988, 0, 0.9850261496543945, 0, 0.4306765580765192, 0, 0.9570766015804542, 0, 0, 0, 0, 0, 0.9268418287957781, 0.46207271844019, 0.43068130290020457, 0.821818602390577, 0.6309297128628918, 0, 0.6286612963579802, 0.30102999566398125, 0, 0.6280609476642184, 0.44209979575662844, 0.2903750228529456, 0, 0.9171639853745713, 0, 0.9808826638259943, 0, 0.6238010507679234, 0.6552805086938268, 0.8264269373071859, 0.3579197671391244, 0.745988638786306, 0, 0.4286844097145284, 0, 0.29056429120891547, 0.9808109126226026, 0.3562071871080221, 0, 0, 0.45573676303968513, 0.6309297535733427, 0.8517911755149605, 0.8199583811943173, 0.38685280723454163, 0.9699169476741568, 0.8086740727942924, 0.8284810345551317, 0.9668550180819392, 0.8156647313250966, 0, 0, 0.9508576955077166, 0.43957218463114367, 0.3870744558051986, 0, 0.6123451335682498, 0.32502334723059706, 0, 0.8084226888366891, 1.0, 0.8064161821752363, 0.3146900522534352, 0.9392960894030372, 0, 0.6321292307628898, 0.5000781090827561, 0, 0, 0.9906409040027261, 0.9607149632106984, 0, 0, 0, 0.9632707635194601, 0.38685280723454224, 0.33715617819685884, 0.6256945922742193, 0, 0.3973721179498055, 0, 0, 0, 0, 0, 0, 0.43067655807339306, 0.32873953907440123, 0, 0, 0.8143539696785721, 0, 0.9916236954727919, 0, 0.8517191619945486, 0, 0.8327044598386344, 0.5455953772956881, 0.4999997133251407, 0.914220178124573, 0, 0.5163836375862619, 0.6311327835797991, 0.8399324033611291, 0, 0.9921019275035655, 0.925869536342237, 0.9950994205618965, 0.8603443310417203, 0, 0.6965421859932049, 0.7383587160099354, 0.3241302507788823, 0.9557907525998849, 0, 0, 0.9325944175531762, 0.8566185524574742, 0.5441074989342477, 0, 0.49344665430834145, 0, 0.42503949066981866, 0.35770044807425677, 1.0, 0.46879209961840945, 0.41096410180754844, 0.5025213659050773, 0.8992793151234931, 0.44452442913385304, 0.6249819466230436, 0.8316133081876417, 0.36117575267348717, 0.6331634860042357, 0.5015722054282771, 0, 0.4138187142306497, 0.4433214887330376, 0.49694288099079037, 0.5000005900622506, 0, 0.35957883420601, 0.9933766868910936, 0.44292258727961475, 0.3868602935777562, 0.5927815575684501, 0.2890648263178879, 0.49487498981376093, 0.9322447939063514, 0, 0.4804622275718828, 0.5052227376492029, 0.9998442428047345, 0.5831891797385463, 0.5439113487349153, 0, 0.532736334890347, 0, 0.3562071871080221, 0, 0.33335062984024016, 0.699405549200285, 0.36424390049528127, 0.46290652471970944, 0.9928946015149308, 0, 0, 0.8353075967571338, 0, 0.3193235123362877, 0.7587105404926, 0.9146484831776901, 0.5794799515399481, 0.38122622908472437, 0.7938921851572537, 0.3648010668801206, 0.4478490568420169, 0.801992985886513, 0.716737116181423, 0.6954746518577601, 0.9998887927369031, 0, 0, 0, 0.8769054156332895, 0, 0, 0.6305215574620491, 0.9716127808720367, 0, 0.7368423129819022, 0.6600817793316102, 0.9999904090265125, 0.46658936910364107, 1.0, 0, 1.0, 0.5803255101218483, 0.6242495855867213, 0.6954830180107763, 0.5999106242486077, 0.4375232840257922, 0.9785068572796287, 0.6405512270217171, 0, 0, 0.3845936577387391, 0, 0, 0.994529396926807, 0.552469240471075, 0.9996215686559053, 0.36104862012813227, 0, 0, 0.31546494069839576, 0, 0.3644706862377629, 0.9999743035163545, 0, 0, 0.4050803404480085, 0.8224755087643764, 0, 0.40836465819013124, 0.8180388993387692, 0, 0.3358619461656179, 0.9999676228070337, 0.33448034999127224, 0.586044916587293, 0.45560514958746035, 0.6310044607043032, 0.9118110009492498, 0.31674205612258516, 0.5791382481178617, 0.8854598815714875, 0, 0.6004267885814821, 0, 0.37759235243346045, 0.6203371237439925, 0.6436257675908391, 0.5000031934731616, 0.289069718610456, 0.9927385581735243, 0.7654156911420051, 0.6309297535714491, 0.34946088815209075, 0.4208896030797746, 0.4999999999891218, 0.5000028040734986, 0.9254083127481599, 0.47079434904991435, 0.4645920542642997, 0.8503933438498835, 0, 0.2890648270195459, 0.5141715610995877, 0.29324769784055654, 0, 0.4330881175325558, 0.7194735711583511, 0.8702658639423225, 0.5528729926766829, 0.8348467049829862, 0, 0.9998662104505686, 0.892051661957939, 0.9898749718007129, 0.30550711170545936, 0.4320048522691334, 0.9977228918901399, 0.8137163137483368, 0.6013118754932909, 0.9275133739877691, 0.90634781645308, 0.9999999999956075, 0.9996166533449167, 0.4418153685423761, 0.7391301193181172, 0.6290109307133661, 0.8470140609375478, 0, 0, 0.7468267496926487, 0, 0.2890648263178879, 0.8830101142723278, 0.33224217634839015, 0, 0, 0.3562071871080222, 0.3335316775595374, 0.33521647664880394, 0.849117104306253, 0.6295165555578092, 0.678630020112538, 0, 0, 0.8930477874769385, 0.9424808277806777, 0.42918200122060657, 0, 0.9604898080841304, 0.6143628016313947, 0.4321979378394172, 0, 0.888393229498328, 0, 0, 0.9389157257562164, 0, 0, 0.9071998598110325, 0.9073001146057251, 0, 0, 0.5706424404662361, 0.38685280723454163, 0.7456314304884278, 0, 0, 0.43067655807339306, 0.8479270253343704, 0.5925814688799022, 0.6309297472649706, 0.3769748045425104, 0.5000000505576886, 0.6599231175596011, 0.9984397385793519, 0.9891010636836821, 0.5205576300011474, 0, 0.9999398838838934, 0.43122476831378026, 0, 0, 0, 0, 0.8844206091197162, 0.9195266713201916, 0.47399885974528533, 0.5299668658988083, 0.30191376174980433, 0, 0.9321195555103958, 0.9043622558003838, 0, 0, 0, 0.9198261356938782, 0.3333333333706619, 0.7382255109169638, 0.9489615487819065, 0.9150172768687028, 0.9588774951123916, 0.9533106741690033, 0.43067655807339306, 0.3927286118758978, 0, 0.6131630343605442, 0, 0, 0.6465358708520532, 0, 0.5350527334233088, 0.5024046106791681, 0.9710237533982011, 0.7098817723764329, 0.7193754938274421, 1.0, 0.39682142740795406, 0.4314362536925778, 0.4663482580473728, 0.6313153306089293, 0.978468988941787, 0, 0.6066624004863043, 0, 0.3010299956639812, 0, 0.5815136847905581, 0, 0.5799864599184759, 0, 0.7161140714735399, 0.994398672825964, 0.5316477950822178, 0, 0.5135832900667183, 0.7139656484544221, 0, 0.6309297535714575, 0.9994323948897682, 0.9594133919787223, 0.4388848958834809, 0.2891161332319779, 0.434436301519698, 0, 0, 0, 0.7621206113250106, 0, 0.2890648263178878, 0.3522189038511766, 0, 0, 0.3565145633712911, 0.37486993166624766, 0.9042574241621713, 0, 0, 0.860495759545148, 0, 0, 0.6309297535714574, 0, 0.3868528072345416, 0, 0.44158011087416266, 0.2890648263178879, 0.9309615571194862, 0.5168294154518841, 0.7246332988058465, 0, 0, 0.31550134578029754, 0, 0.9956662952911, 0, 0, 0, 0.9831435474585393, 0.5160189829961942, 0.9396709444151516, 0.9978645500018626, 0.3620374355260355, 0.9999153260715102, 0.8494934015570134, 0.8463761388678701, 0.9764136173036588, 0.28906482928344374, 0.912249066243506, 0.9691843862478939, 0.4249599017752094, 0.4923585123708575, 0.8581642290386586, 0.9046379923134044, 0.9878957913301506, 0, 0.8827979338146039, 0, 0.6527459621210954, 0.5980413671752023, 0.4883848714607051, 0.37695297056373034, 0, 0, 0.43950220840304677, 0.6504504677651035, 0.7766732578748655, 0.36855896409822037, 0, 0.7989535504430099, 0.946940295212168, 0.9499506602100425, 0.3562071871081415, 0.7919875476438902, 0, 0.2890648263178878, 0, 0.8303695335050421, 0.9403689294844962, 0.9530727738934583, 0.597039269839762, 0.3154648767857287, 0.34137442060546086, 0, 0, 0.6020926078365963, 0.49250523238215715, 0, 0.7144702875908331, 1.0, 0.9247085593004604, 0.5605377136342841, 0.7607623442600597, 0.999738083346242, 0.4306971788785567, 0, 0, 0, 0, 0.9659861926460633, 1.0, 0.9696583369460924, 0.9570999193277593, 0.5026509664101017, 0.8278850127783143, 0, 0, 0.5663210416869502, 0.3349928606055892, 0.9966528145418425, 0.8550039405791016, 0.7493211223323235, 0, 0.6484583760281124, 0.9501394016159179, 0, 0.5000000000006828, 0.6039945379695545, 0, 0.28992436899287816, 0.500032097159867, 0, 0.49092158898089977, 0.986057322349934, 0.6988770733065972, 0.9985850181284269, 0, 0.35649921667094964, 0.8134328466336908, 0, 0, 0.4591729604001253, 0.4448615950874702, 0.6309297535714575, 0, 0, 0.43067734159349497, 0.43067655807339306, 0.9020874386213514, 0.9931748021375397, 0.5660211420754879, 0, 0.38685280723454163, 0.9998315778311215, 0, 0, 0, 0.5706435605809991, 0.9986056973243478, 0.6268082706205296, 0.659444213046216, 0.9326555271436535, 1.0, 0.3015147344652321, 0.9891267197141351, 0, 0.41768311364193433, 0.5367434215508023, 0.7530997704233746, 1.0, 0.392206262482606, 0.37981173987845307, 0.8743912450754903, 0.9172249109293983, 1.0, 0.4387868121514685, 0.6153434245906031, 0, 0, 0.622926727655439, 0.6095749134703046, 0.6201250466131434, 0, 0.3673920113987745, 0.6392073846186317, 0, 0.35620726907287414, 0.9695569108869456, 0.31561221302763376, 0, 0, 0.7245312701590205, 0.31341495171187594, 0.9858520788318806, 0.83284931773579, 0.2990441418047962, 0.9888535457437867, 0.8774662306062554, 0.389613860192746, 0.32317985779927727, 0, 0, 0.30130512374427554, 0.9260722069309688, 0.4550743332578564, 0, 0.3271696089290119, 0.6309297890428325, 0.5347637857145213, 0.45778868355007035, 0, 0, 0.6076962781572272, 0.9861107191741603, 0.9759430230146509, 0.8881315651402454, 0, 0.9989622315158104, 0.9523435193665422, 0.6921204407105735, 0, 0.867897048973541, 1.0, 0, 0.40533712750881035, 0.9999991518858357, 0.6309301069888588, 0, 0, 0.97206736989841, 0.9789257856448687, 0.9275094855879001, 0.8939025800754083, 0.6552195432378046, 0.831144935803461, 0.5667253596848603, 0.3385715040794638, 0.3765417255452265, 0.8180744295934432, 0, 0.9763891828215479, 0.6451553002776798, 0, 0.4306765804136116, 0.6716680849659211, 0.9058523117963418, 0, 0.6361165581991385, 0, 0.3068035832820542, 0.9043113418264178, 0.8030064058362061, 0.720834544610178, 0, 0, 0, 0.43067689784388197, 0.3562071871080222, 0, 0.8491188628063996, 0, 0.5331146542072728, 0.5829317811908487, 0.4135858067749716, 0, 0.8177523388519965, 0.6154401427161001, 0, 0, 0.43067655807339306, 0.5655833210098669, 0, 0, 0.9995179904727616, 0, 0, 0.6309297535714575, 0.3562071871080222, 0, 0, 0, 0, 0, 0, 0, 0, 0, 0.39807653899635365, 0.30232936866414517, 0.9830348234157371, 0, 0.9816233845353497, 0, 0.9765212006658899, 0.6155810237861256, 0.7879985305476122, 0, 0, 0.4148777877752754, 0, 0.3156684666633663, 0.5004467164351241, 0.5306623193396945, 0.5109559939712154, 0, 0, 0.31546796734596594, 0, 0.5063496966792167, 0.633243553985492, 0, 0.5, 0.9996272451435205, 0.5039788281093328, 0.7963313790660337, 0.9018280819558051, 0.8639013389717819, 0.3154648767857287, 0.37253656529332024, 0.2971373123935029, 0.6882683895033714, 0.39092166520044797, 0.973862537748233, 0.4826117638063174, 0.5809111640334808, 0.35620922613172895, 0.3334342134144029, 0, 0, 0.618681807253223, 0, 0, 0.5000001043259378, 0.4439450205066856, 1.0, 0.7794226957912486, 0, 0.6509263202234675, 0, 0, 0.9996560776570038, 0.6969103510920637, 0, 0, 0, 0, 0.3061787129871555, 0.6509036291607343, 0, 0, 0.33389250741375814, 0.31582240198576705, 0.4574983946162504, 0, 0.8865872880761477, 0, 0, 0.5195614055542812, 0.33094332201866017, 0.3907450437944614, 0.4302203038529493, 0.6643148181496676, 1.0, 0, 0.7385790945565603, 0.9906067285647497, 0.5012658353418871, 0.9996973479091432, 0.3562071871080222, 0.8947623390587448, 0, 0.5210593783677272, 0.434879870376155, 0.5011741821631923, 0.3418844708715767, 0.5498210877143337, 0.9629594186372038, 0.8719769903199791, 1.0, 0.5589784106294857, 0.8342301499697808, 0.856923909499075, 0.9509380376003073, 0, 0, 0.9997284238002002, 0.9997090724020088, 0, 0.43363074123569995, 0, 0, 0, 0, 0, 0.322621704084206, 0, 0.8309949176847014, 0.8976120527207795, 0.42960997271995166, 0.4320778503777199, 0.7210808472794599, 0.33333333334795434, 0.6909922288120807, 0.7301134168413482, 0.6384200828389173, 0.846297631438867, 0.419475373980659, 0.53914984505114, 0.3871899306382562, 0.956705918874285, 0.43084498213081407, 0.7268602461551531, 0, 0.6556760037670893, 0.6823675343914579, 0.7225861498932397, 0.9090536993820665, 0.5326524304643487, 0, 0.5180486616312443, 0.9607961733518744, 0.7991346429259409, 0.49111106352303224, 0.6813009216803295, 0.842552685072699, 0.35872275008518717, 0.4058539475902456, 0.3162205417383448, 0.6913976493110234, 0.3584767249318293, 0.6026856840032753, 0.43208026915523295, 0.4878780416957453, 0.999970376583526, 0.4003968029788602, 0.7382123774557748, 0, 0, 0.9418541249706398, 0.4987309451660224, 0.31839831507783856, 0, 0, 0, 0.5803547236988681, 0, 0.5216166544336975, 0.9473234802813115, 0.357596402879448, 0.30531930778608546, 0.7032650018471064, 0.38685280723454163, 0.6068524706672941, 0.3868594206636603, 0.9902406036996931, 0, 0.35750796151951125, 0.41134921808352604, 0.29006375483632607, 0, 0, 0, 0, 0.9963486703641993, 0, 0.8990225729735644, 0, 0.9811340349228037, 0.9343362308958324, 0, 0.5623803383234919, 0, 0.9183050436369662, 0.9611885477339297, 0.5000108694269279, 0.45678316190145934, 0.8662381416787865, 0, 0, 0, 0, 0, 0.584152232900501, 0.4925085864289838, 0, 0, 0.8467180776823658, 0, 0, 0, 0, 0, 0.8270644254723559, 0, 0, 0.911598576567558, 0, 1.0, 0.630929996855613, 0.9997629383468648, 0.38685280723454163, 0.3931387717584556, 0.8500980661018905, 0, 0.5967006887018417, 0.9644119932039741, 0.609999289060879, 0.9973959104360935, 0, 0, 0.44091597797216475, 0.7064196491758389, 0, 0.5126212053211655, 0, 0.43176372406314756, 0.7532750944406936, 0.9463194751335045, 0, 0.9442710399936813, 0, 0.4537334309662577, 0.43067946141066543, 0.3222712472986924, 0, 0.9084073193680549, 0.3572482169496567, 0, 0.3562071871080221, 0, 0, 0.838344355905408, 0.3868528072345416, 0, 0.8654810349838412, 0.356380035694917, 0.6863072399743917, 0.6309297535714574, 0.4042147923168106, 0.3773815466454686, 0, 0.70321480890457, 0, 0.418733931147591, 0, 0, 0.4306765580733931, 0.43162457968667667, 0.952962439093827, 0.6701421945601386, 0, 0.9896392077752572, 0, 0.38685280723454163, 0.9987288555762217, 0.6997918277729297, 0.9566228973730302, 0.5491720085834025, 0.43160678372744965, 0.6612503199367212, 0.9951006253632155, 0.5386174776765025, 0.9746289502792147, 0.43233404983879226, 0.642902503861397, 0.667707802712913, 0.6845519972569926, 0.6661703210083394, 0.3563104067213413, 0.4556655202823582, 0.5528151008340898, 0.2910385851357637, 0.35620719467194156, 0.7592871395428702, 0, 0.9969375475933934, 0.33300433131181423, 0.5344197722130899, 0.6285653797045734, 0.2890648263178879, 0.5002210627362025, 0.31881067110067673, 0, 0.3158203625869177, 0.39410219166353877, 0, 0, 0, 0, 0.6128471198932949, 0.6558238302652233, 0.999737573855317, 0.8515825454585089, 0, 0, 0.9445133262802131, 0.4306928420101647, 0.5634647196856665, 0.9122656228586081, 0, 0.43091336433289107, 0, 0, 0, 0.5345329810736005, 0, 0.37478794849572705, 0, 0, 0.45050980567634297, 0, 0.4306799270685654, 0, 0.3978088012057569, 0, 0.6160193136005002, 0.49506887826636825, 0, 0.38854924860520323, 0, 0.6416901691423895, 0, 0.678596502043913, 0.7138121185090767, 0.9764411982239876, 0.4902726280329238, 0.6626967627636131, 0.8774162330838615, 0.8073120477465511, 0.8553411363698974, 0.9469826676643126, 0.9946713882850896, 0.9347708748683073, 1.0, 0, 0.845780801181367, 0.6621704225386651, 0.3181970011403727, 0, 0, 0, 0.8024656057219847, 0.3562071871080222, 0.39583432860663775, 0.8711303436874163, 0, 0.3154826972048038, 0, 0.9750327957892657, 0.9741117258082715, 0.6176565258542274, 0.7433472415660333, 0.9994275282304039, 0.33505547788374634, 0, 0.9045868476848673, 0, 0, 0, 0.946340153838341, 0.8131509384192378, 0.9736787331830008, 0.8997091449026507, 0.6309297535737244, 0, 0.2890648271401062, 0, 0, 0.9857815788548798, 0, 0.3838511767597699, 0.3011603174118712, 0.3895565622456539, 0.9267203054328055, 0.30309691790062593, 0.3950348435829426, 0.41400105414169763, 0.9715928037416048, 1.0, 0, 0.9998870465171958, 0, 0.8281572766261861, 0, 0.9282179950134039, 0.8855610219383704, 0, 0.34318387674890977, 0.4245595756023702, 0.8601366556486806, 0.9596739916291133, 0.5432574101300801, 0, 0, 0, 0.9999526446194503, 0.5045598136241399, 0.3151556948436961, 0.43112764649007584, 0.5262757428433901, 0.3562071871080222, 0, 0.3333485946822077, 0.6891380803256565, 0.5258242591393352, 0.8632610285889564, 0.9186520383720184, 0.36588616834535953, 0, 0.5010711017942809, 0.5009402166532072, 0.7170108265865219, 0.3562071871080222, 0, 0.8443238054149961, 0, 0, 0.3872369898660857, 0.6412512561538324, 0.3333333333333333, 0.8951830444697308, 0.4651915489681958, 0.9999999937613463, 0.9559540721194234, 0.5880266356616715, 0.7940757078638065, 0, 0.4440261871926966, 0.9689572607339371, 0.9695645530917578, 0, 0.6554181553270434, 0.6309289117403909, 0.3868528072356227, 0.9999999881991488, 0.6309297535714574, 0.5641255082185543, 0.2890648263178878, 0.6913472143731906, 0.356957136856371, 0.8712662773404865, 0.38164396222982544, 0.5898355423564239, 0.8612508311125172, 0.7182952279608141, 0.9492171428701273, 0.7688966562561365, 0, 0.980738849817407, 0.5183322919267587, 0, 0.9605908698165561, 0, 0, 0.33341552226805593, 0.6466797604122076, 0, 0.932495282513162, 0.30285413328640004, 0.6738528490047235, 0, 0.8389061937082776, 0.8671384464509833, 0.46870994584178033, 0.973707344965934, 0.35875723739883564, 0.6322057901639938, 0.9318372567265462, 0.45650602477537167, 0.999999969286618, 0.5000070175697625, 0.5000185230834616, 0.4966614639945853, 0.5977511476705826, 0.8771426440229403, 0, 0.3868760601645881, 0.9999999276865974, 0.7092290843896242, 0.5635560068417316, 0.2890648263178878, 0, 0, 0.6494287373826566, 0.5670564040663489, 0.43800360237077973, 0.48318174199344366, 0.5748977584739292, 0, 0.9405968568528226, 0.3599455910999251, 0, 0.5740795235465138, 0.940478165876596, 0, 0, 0.5000260594282814, 0.4648182468682293, 0.62101580189564, 0.3973313163422316, 0.7736952289167941, 0.798856368736206, 0.39489209975957557, 0.4306765580733931, 0.44385639014097333, 0.9176538489735706, 0, 0.5912825026920924, 0, 0.4307722275303139, 0.5141532310837206, 0.5090324529516836, 0, 0.3333333333333333, 0.9883892640874788, 1.0, 0, 0, 0, 0.778581972263947, 0.38689322594170694, 0.43320728164657607, 0.9429752990103862, 0.6849031440839061, 0, 0, 0.9997289827497964, 0, 0, 0.3608699226031967, 0.4718640469985429, 0.9957168415516258, 0.6373581155181565, 0, 0, 0.6512481671939225, 0.7928654229965444, 0.9999967512315074, 0.6309297535714574, 0, 0.3562114064866787, 0, 0.43067655871013033, 1.0, 0.34121221214598985, 0, 0.8495340489401099, 0.8105696823869001, 0, 0.3408871889538556, 0, 0, 0.5030834054919531, 0.3547171987427038, 0.4326656459914741, 0.3683777218211647, 0.5437713091520254, 0, 0, 0.2892437262698899, 0.5789948147259062, 0, 0.7489422312236422, 0.992220303704574, 0, 0.9322873516958186, 0.8194062474723866, 0, 0.33333333333333337, 0.4162142808837991, 0.9999999999936762, 0.923280798855413, 0.5003134953373849, 0.8503464737608869, 0.9364090260386009, 0.38685280723454163, 0.6371745194783309, 0, 0.9868751714605961, 0.6107061007927731, 0.45094222523427535, 0.63468472980571, 0.9378696652076974, 0, 0, 0, 0.6114167714275652, 0.33333333333333337, 0.9193949588942837, 0, 0.9462058338161166, 0.9999999891254261, 0.5299327508611502, 0.5175753241636278, 0.8959689442242015, 0.7472453849846317, 0.3638422119643384, 0.4940099573609544, 0.7487377667382316, 0.4256228155226037, 0.4271288508509424, 0, 0.8885708291148972, 0.30666469105133576, 0, 0.6598407752228121, 0.4531530960511739, 0.8192601865292175, 0.8718874963282837, 0.9999721042626273, 0.47031735110961037, 0.5000003451919484, 0, 0, 0.6256646589861506, 0, 0.7526305490851669, 0.36664153239772995, 0, 0.9265855803358383, 0.3333901811528727, 0.6445878189555664, 0, 0, 0.43422639161460425, 0, 0.4533352213513005, 0.6309297426847084, 0.7931321904259592, 0.4354270334036197, 0.862490547599425, 0.8253105073210818, 0, 0.3766412968533295, 0.9324634956103648, 0.33333333333333337, 0.8093944238830558, 0.8725006218673185, 0, 0.5249810332008934, 0, 0.4073776377778346, 0.6073853487793992, 0.34983161376276833, 0, 0.3154648767857287, 0.9469718958413781, 0.5607946471126737, 0, 0.9999949355646055, 0.7020219749618893, 0, 0.8503449055347546, 0, 0, 1.0, 0.8312211770427499, 0, 0, 0.9564902648594239, 0, 0, 0, 0, 0.7753606653616976, 0.8266299369465882, 0.3667164597374373, 0.33673474928027647, 0.2890648429196167, 0, 0.9623014994480543, 0.38724059556440427, 0.37257187128774855, 0.5006706325171748, 0, 0.5012658353418872, 0, 0, 0, 0.3333333333333333, 0.381254503817516, 0.759209086231697, 0, 0.9924547911268468, 0, 0.36181498356361597, 1.0, 0.3010299956639812, 0, 0.4658899686878585, 0, 0, 0.9385132337840989, 0, 0.9393770302635772, 0, 0.503165148357593, 0.8604798465219954, 0.9480727758106928, 0, 0, 0.9624799317359831, 0.4306765580733931, 0.9156069375359656, 0.6087149134411323, 0.3327857478183451, 0, 0.5004491039582076, 0, 0.28908651448232714, 0.35681559350658854, 0.5541506767239652, 0.3948440434191779, 0.515291701442805, 0, 0.9959375260775066, 0, 0, 0.38685280723454163, 0, 0, 0, 0.500666590911119, 0.6307298663959862, 0.4142312872275563, 0.9619371250008226, 0, 0.6858838386667708, 0.3738257817885136, 0.944691510660273, 0.9918705326028704, 0.4146419146531701, 0, 0.9999674704859183, 0.9060254511528564, 0.4306765580733931, 0.5281229012754914, 0.6763017180726688, 0.48937094132381065, 0, 0.5228698766740909, 0.8135283323395915, 0.5802792121468784, 0, 0.43108213777108184, 0.2890648263178878, 0.2890648263178878, 0, 0, 0, 0.7839534935530336, 0.9832418578857703, 0.9834760037381896, 0.9612318488079019, 0.3834087354249026, 0.46037013090530604, 0.9182500302127503, 0.4267705644686894, 0.2989798411741835, 0.6764064929342886, 0.5956655184851936, 0.819895031306888, 0.3051751518686945, 0.32603448209480385, 0.8227144198569313, 0.9982483457855559, 0.6532078757783577, 0, 0, 0, 0, 0.91790778118617, 0.9054545631963337, 0.3870164599807827, 0.40326372058235116, 0.411833840435435, 0, 0.4308163738845008, 0.9911708521777304, 0, 0.38685280723454163, 0, 0.39140983216252556, 0, 0.8032142333129535, 0.45745254639876515, 1.0, 0.34106724389207366, 0, 0.31630326773638384, 0.3154648767857287, 0, 0.8956346732521695, 0, 0.5000000446214838, 0.3967237469116749, 0.6383351850827857, 0.9999999999598259, 0.9794191091601456, 0, 0, 0.9764193446047723, 1.0, 0.9412405281586169, 0.653112429473923, 0.8126981696594308, 0.5134364521399488, 0, 0.3868528072345416, 0, 0, 0.9846432506995823, 0, 0, 0.9994181688662893, 0, 0.9843407093398147, 0, 0.9161655894543483, 0.8510706486323723, 0.49999999999988204, 0.9586361661075554, 0.9434114871132468, 0.361814983732068, 0.3010299956639812, 0, 0.5880324617474171, 0, 0.4306765580733931, 0.2890648263178879, 0.5000000035752815, 0, 0.9690534505201669, 0.6309301405845632, 0.9727083044826338, 0, 0, 0.43067655807339306, 0, 0.9257616621749745, 0.9431213237175495, 0, 0, 0, 0.7817138670108171, 0, 0, 0.8675829389781141, 0, 0.5753321783663452, 0.4904000075235169, 0.603079281786564, 0.37824088878947, 0.31546487678572877, 0, 0.3898847377172359, 0, 0.9581458910954181, 0.999999222716704, 0.389672378983546, 0, 0, 0.38744066064122834, 0, 0.43096233785941407, 0, 0, 0, 0.5764356992818739, 0, 0.8749278654835635, 0, 0.5230820444657822, 0.956440464086952, 0, 0.7100344125030204, 0.7469063310114027, 0.999960933868377, 0, 0.8923650051640185, 0, 0, 0.41058447254076313, 0.7936366635190639, 0.8881111303883839, 0.6309297535714575, 0.6888241333041604, 0.6309259544370484, 0, 0, 0.4306765580733931, 0, 0.9999999286079165, 0, 0, 0.4324427560267272, 0.5545353745530491, 0.38737284976007297, 0.9083576810653342, 0.5348575921905698, 0.3578792794309697, 0.500000235249296, 0.3187410825775641, 0, 0.9921846230007357, 0.8019609157673793, 0, 0.6308871860043795, 0.8716476936377875, 0.593880611840706, 0.4770966757385422, 1.0, 0.4556051495874604, 0, 0, 0, 0.8066906012622979, 0.6378664372020264, 0.8286162319546737, 0, 0.4307934489034594, 1.0, 0, 0.9626521575487177, 0, 0.9401147804980594, 0, 0.7938590652613441, 0.8188075392609406, 0, 0.5129849754591708, 0, 0.7110861546924389, 0, 0, 0, 0, 0.3868528124066411, 0, 0.5714383173037535, 0, 0.9752526417866504, 0.9644724265894513, 0.9977573722342303, 0.8065735963827292, 0, 0.6051698447216153, 0.3456274334394323, 0.5801796032589344, 0.4306765580733931, 0.36125422860646783, 0.9999999999644107, 0, 0.7091789232231199, 0.3746799417596382, 0.5840573266090242, 0.43067655807339306, 0.6309297535714575, 0, 0.32341340793200446, 0, 0.6753584703898283, 0.43229941597300336, 0.6552306118229695, 0, 0.42515999936066196, 0, 0.597311876872529, 0, 0.3780452857303379, 0.33333333333333337, 0.8458081305937037, 0.28906495386821696, 0.9351010351295918, 0, 0.35678594712544154, 0, 0.8670957005096417, 0.2998880621183255, 0.37243025013061043, 0.6574437298811346, 0.5417783259415896, 0, 0.4889202518879585, 0.6309296099144265, 0.6309297535714575, 0.9022913434575428, 0.363526660827677, 0.9146619450168813, 0.5469259630906536, 0.8901922250873183, 0.6769307819784705, 0.6315072607740199, 0.8367008265756469, 0.9986963581611694, 0.31496535521781077, 1.0, 0.9025700757602256, 0, 0, 0.6215706175965406, 0.6491931996566885, 0.5189999585209284, 0.6262399904157993, 0.8485398841245555, 0.969710375308641, 0.9541013276116971, 0, 0.9961943268737934, 0, 0.5292627872671133, 1.0, 0.7162703539873662, 0.2890648263178879, 0, 0.377906392593667, 0.9121068301626125, 0.829643779852136, 0.4382006693293019, 0.45749457067665295, 0.9774641845311886, 0.9999224206737358, 0.4479580798524552, 0.6244117532115018, 0.4227898344066503, 0.9851994367953256, 0.2948844918951949, 0.49999999999996336, 0.5033625173096556, 0.3333813357970076, 0.8698956938554153, 0.35426041353107, 0.3064047237349983, 0, 0.9888026393674836, 0.3406238657250339, 0, 0.3910865280262995, 0, 0.9968904566662808, 0.8529517404486899, 0, 0.35687532841087266, 0.9174947646064251, 0.6309535661976278, 0.35715300981122494, 0.6940165672622586, 0.4844477011983332, 0.3333908097919786, 0.3333333333333333, 0.5166525061230504, 0, 0.29090580005987315, 0.9804185539594393, 0.7093283722857294, 0.3679197315450667, 0, 0, 0, 0.8372646438029365, 0.9948645221330749, 0.6436156000092811, 0.6201044967737026, 0.6406829818330495, 0.8900237589033516, 0, 0, 0.8354183346988973, 0.9884599637895017, 0.3333333333333333, 0.5172246910513327, 0.35624192287576306, 0.5000000000318291, 0.9279874255247087, 0.9986635460008642, 0.5847876649948585, 0.39018226965606645, 0, 0, 0.8513852455515442, 0.5043639777994979, 0.7073624384708903, 0.5000493632233892, 0, 0, 0, 0, 0, 0, 0.4194763275782576, 0, 0.5494126062001268, 0.6194117050934932, 0.8867430033769675, 0.8712922063722826, 0.8434712182679076, 0, 0.4792226825395577, 0.28906491632340553, 0.668700475506329, 0.5000091650003514, 0.507445883636134, 0.6775043405618036, 0, 0, 0.7639161913103174, 0.6680982715863757, 0, 0.9421925709277171, 0.7185475712069457, 0.5959698186974823, 0.8857796116998241, 0.9793656319464775, 0.8946170869705099, 0.6333924301571869, 0.8056370740244598, 0.5843562377105902, 0, 0, 0.34578321682733276, 0.315479104674687, 0, 0, 0.5868599473956634, 0.387129063082448, 0, 0.9925153805698391, 1.0, 0, 0, 0.45807815572765065, 0, 0.6637187945136409, 0.8110036551662878, 0.7778509922726857, 0.6995012695216501, 0.9394680855710259, 0.4858101774512484, 0.650921327367329, 0.9804942945675762, 0, 0.44569231708377105, 0.9604524287910648, 0.4306808000674201, 0.9304202990253367, 0.4090210195580818, 0.9501674784680024, 0.38385296589478196, 0.6301855357428559, 0.7661900327912383, 0.3562076023914106, 0.6232574741246925, 0.7116319365931724, 0.6529990141228382, 0, 0.5035689287071697, 0.5146049539915563, 0, 0.7966957579377384, 0.9469024295259745, 0.34516803775615434, 0.8334584009825139, 0.7908093572473369, 0.5892193050671853, 0, 0, 0.9897590460630802, 0, 0.9409165865193923, 0, 0.952717060009353, 0, 0.6112295975111831, 0.8865246140209568, 0.6933980548214945, 0.9990527871626848, 0, 0, 0.35716049874160516, 0.372069202883228, 0, 0.5912540685318519, 0, 0, 0, 0.7055718279107263, 0.7094308330779385, 0, 0.9853569602799435, 0, 0.7829988562902201, 0.46936540813641087, 0.3010299956639812, 0.5640920940185894, 0, 0.3562952902161271, 0.38689131757210643, 0.9493885684853098, 0, 0, 0.37094374813618264, 0, 0.418397778910129, 0.4218541276471534, 0.3436256845338457, 0.3305288399754099, 0.4343433506757457, 0.6007444329485688, 0.43312495536718604, 0.4403337093590981, 0.3010299956639812, 0.9777273375694961, 0.4642750747901955, 0.3084897059967998, 1.0, 0.38688487779897107, 0.8245139447639942, 0.8393360825491332, 0.3748304124120188, 0.9268454556468437, 0.5806124521150872, 0.5250876134847496, 0.9985192514192502, 0.7867415532900436, 0.6451874494513953, 0.5623300096859555, 0.8827877328863072, 0, 0, 0.6635075097562435, 0, 0.8948241138656051, 0, 0.9997409140099665, 0.568804690488364, 0.999069573258687, 0.7954543771007538, 0, 0.5253028943992983, 0.990590406217163, 0.4806629599548232, 0, 0, 0, 0.9963045860291238, 0.40298313359773236, 0, 0.6054158377666585, 0.7697907494488502, 0.991101420448308, 0.3796797488481305, 0.29960140897176735, 0, 0.3011841684383711, 0.8617396545022403, 0.8071930122860221, 0.35647746109539713, 0.7427691632118585, 0.6099412243751868, 0.7507979575558527, 0, 0.9726595988607125, 0.38685280723454163, 0.6831075719364632, 0.43833935646293676, 0.67261283744745, 0, 0.6509209298071325, 0.38928714199344056, 0, 0.7491253134311802, 0.5744948653258654, 0.3496227851483736, 0.33333333333425663, 0.5309279050348599, 0, 0.522430207888626, 0, 0.35624345482980446, 0.355514884413428, 0.9896966496759456, 0, 0.9637682451097801, 0.3207190851147981, 0.9634937884959792, 0.9842217872422725, 0.4597859571312851, 0.5755914320068212, 0.3904250504086725, 0.9000043971658565, 0.9192156734166564, 0.3212959158088736, 0.630929753573678, 0, 0.9091364474399882, 0.9734192929241207, 0, 0.8228014305271711, 0, 0.30509681498365904, 0.9661953801919236, 0.8328218832161162, 0.5018729872631794, 0, 0.7370537284256868, 0.33874864439195734, 0.5994385695210966, 0, 0.4435550625016442, 0, 0.9636986580770884, 0.533848534523055, 0.33363095878483023, 0.8304962625736829, 0.5039600381471636, 0.578245178110852, 0.6309575760735828, 0.9999999676394322, 0.431251671986733, 0, 0.9999759601988716, 0.7606288127720423, 0.43067655829246415, 0.2897599895962254, 0.9838711514516612, 0.30343722739524104, 0, 0.8205367879829207, 0.4486438193521591, 0, 0, 0.7971398034142956, 0, 0.31546545189182523, 0, 0.3010299956639812, 0, 0.9860814540102402, 0.8238716357463164, 0.40148862429464266, 0, 0.7795975230232248, 0, 0, 0.8730395316382803, 0.9866049132783822, 0.6091430648647136, 0, 0.378002100396839, 0.9989881908310783, 0.7674965616044477, 0.5360787046514698, 0, 0, 0.8906963078745707, 0.38933831823389436, 0, 0, 0.7484648175901827, 0.6442484584757773, 0, 0.7406256364758599, 0.8729157273250676, 0, 0, 0.4232121778135327, 0, 0.7084191641950089, 0.9314557390655169, 0.4813742220926568, 0, 0.9646800881791219, 0, 0.430676558520223, 0.526337432960793, 0.9210118535213019, 0.9772649386444487, 0.9999999999998177, 0.8976207559621557, 0.4663749187792005, 0.31546487678572877, 0.7559030687141061, 0.6073659940635625, 0.8677136124754885, 0.5149866947571217, 0.6349010490470115, 0.9242500738699426, 0.9933953616601718, 0.8531080136462302, 0, 0.6385532781116685, 0.5083045321113507, 0.6309297485695856, 0, 0.7137402262834521, 0.4244530074316325, 0.999933720189476, 0.5, 0.46845052193472503, 0.3655737684558708, 0.9267158770096481, 0, 0.9189926453444177, 0.5362872539863873, 0.5, 0.41271938603396446, 0.3014460232447173, 0.4306769170175713, 0.967470759757363, 0, 0.9477610193138077, 0.8541087975663724, 0.45282425802273046, 0.9918153173838339, 0.47095815062026, 0.7101899628861031, 0.4352236693182733, 0, 0.7614918883775333, 0.6315695454889122, 0, 0, 0.3927509761233031, 0.988767962274455, 0.9743492909866059, 0, 0.8482824163475767, 0.9533611696318257, 1.0, 0, 0.5302949397450383, 0.8995478373590835, 0, 0, 0.5157817616868527, 0.9790547933902766, 0.7992376828782226, 0, 0.3421278920653352, 0, 0.5000000102013202, 0.8164351083646226, 0.6665910758644703, 0.45083129952007994, 0.9999848330841443, 0.9055894170825606, 0, 0.9230913024866793, 0.41766925584078, 0.9292640961253836, 0.7375959073905786, 0.7162205263347705, 0, 0.6813233734169998, 0, 0.6309297336015148, 0.4619530018271334, 0.3583917009413012, 0, 0.41853089824993017, 0.5079023341354232, 0, 0.45559114777931287, 0.31546487678572877, 1.0, 0.33729551526121815, 0, 0, 0.9306368119718152, 0.7220544831140414, 0.955466685276332, 0, 0.5741708299501928, 0.4852225811554403, 0.6492383964446222, 0, 0.9123977200454948, 0.897684569344639, 0, 0.3159790328547197, 0.7715045236205954, 0, 0, 0, 0.6619183593928466, 0.431984321015895, 0.8392125566112831, 0.9914235064681675, 0.6340499455108034, 0.6445549180284887, 0, 0, 0.9888848332165117, 0.5408173812155095, 0, 0.9736865442139002, 0.3333333836337622, 0.9572844988071757, 0.9217207788075575, 0.39585755807484224, 0.7818781416310661, 0.3969405308761281, 0.9999999944105006, 0.9816742144081139, 0.8396518390791905, 0.3345375958958141, 0.8922183642034792, 0.3397004495475519, 0, 0.31929730666187334, 0.9106117280266925, 0, 1.0, 0, 0, 0, 0, 0.9681337708558888, 0.7758027925241179, 0.3516717024971077, 0.45018795083255464, 0.9689192211717258, 0, 0.450945792491606, 0.3333333333333333, 0.9267930086165719, 0.9953782276143375, 0, 0.4830545025699934, 0.9653262185750557, 0, 0, 0.3333333333333333, 0, 0, 0.7881632693089645, 0.8627725634173429, 0.42042813746442254, 0.3117002837300213, 0.3010306019015157, 0, 0.8756503387570628, 0.3614423833053466, 0, 0.7350887983388674, 0.397808801205757, 0.3678332008003681, 0.9264347155469383, 0, 0, 0.43650018803646073, 0, 0.9828920808380757, 0.4458590150482602, 0.9526990045930268, 0, 0.5000000000000002, 0.5, 0.8419934835754119, 0.9778514103512351, 0, 0.36509160881138697, 0.454873478091615, 0.6140008014417684, 0.5622115028650352, 0.3010300223230344, 0.6798041450574018, 0.6665468234551342, 0.6122081567055561, 0, 0.6467085203449834, 1.0, 0.9308294554554947, 0.5890309383463731, 0.5354312574958886, 0.9469024784806354, 0.5005645796935877, 0.7212854216859383, 0.9303135658423349, 0, 0, 0.3891473780193787, 0.38223829019257083, 0.5180802325051698, 0.3585599502519245, 0, 0.8846238575667051, 0, 0.899927631343784, 0, 0.2890648263178878, 0.4556051495874604, 0, 1.0, 0.8849429436270309, 0.44650927654038547, 0.5084036195776399, 0.983299165877966, 0, 0, 0.9597690835716071, 0.732021119108286, 0.8513782381550838, 0.3880910700071674, 0.9682087825918937, 0, 0, 0.4904003355877686, 0, 0.8605284170128542, 0.5662738938576178, 0.8375561627794147, 0.992445187553122, 0, 0.6184393245659036, 0.9820418344923764, 0.7574976783341733, 0.6310195015993053, 0.5245753505887082, 0.5965298048280856, 0.5541197470656384, 0.4565721241611219, 0, 0.40510132875597876, 0.8925471310035168, 0.5442733754839159, 0, 0, 0.8812075183415919, 0.8361335773298546, 0.4521212156904299, 0.9238845082984818, 0.316626788885032, 0, 0.8538647503238476, 0.5492318224860011, 0.5542316965687358, 0.6293440933437381, 0, 0.7466268866659681, 0.5000562304699864, 0.758691007336155, 0.8191083927422667, 0.6438994072281631, 0, 0.6789159408961126, 0, 1.0, 0.45969168306522495, 0, 0.6531710621625593, 0.4282980745289187, 0.5765708893292185, 0.9183396511278213, 0.5923700724565685, 0.6747394104232214, 0.3955845513804307, 0.9997756332815726, 0.50216515139296, 0, 0.3467320953453231, 0.3563797416353317, 0.7746585166677206, 0.4306765692616646, 0.45574189476410154, 0.5003041397776146, 0.40757482447907767, 0, 0, 0.9840735893813553, 0, 0, 0.5813465942450361, 0.43068141818685524, 0.8348667204244012, 0.945729724206446, 0, 0.5678077629194868, 0.847777448869293, 0.5858192038938642, 0, 0, 0.42373206035030947, 0, 0.9910149945834666, 0.8425099031890074, 0.6052598331783112, 1.0, 0, 0, 0, 0.47081458476766674, 0.999987953816895, 0.8845363019328857, 0.9999999999951741, 1.0, 0.648886663906152, 0.3333357340811377, 0.524981033304708, 0.5026629889779111, 0.8295089230592364, 0, 0.3868528072345416, 0, 0.35007023919566393, 0, 0.365012346611193, 0.903615683470817, 0.3868538689182671, 0.9970456989513875, 0.8996004167166091, 0.5931729515195114, 0.6309297535714575, 0.6342143541558347, 0.48247555939075515, 0.3101289878285623, 0.931675183174087, 0.3724251503452221, 0.8596890475458706, 0.9998714272199609, 0.7149967189857049, 0.38705234993259746, 0.38688575083898136, 0.9998735526723322, 0, 0.9776174856026332, 0.9720198659246991, 0.5833080767543034, 0, 0.443093156361405, 0.8859620623102406, 0.8512618319204533, 0.9999999999941647, 0, 0.9983206525428285, 0.6935601995961492, 0.5017192684462669, 0, 0, 0.31993522139106023, 0.997758782001763, 0, 0.4726262514573449, 0.9999999999706921, 0.888834607556064, 0.8082727062559509, 0.9590115622015463, 0.5068956614087412, 0.43283202021413864, 0.900263719237818, 0.8397656579733574, 0.7928368108205865, 0, 0, 0.2912421343717974, 0.9609038074304713, 0.7514853846389786, 0.8064673173726105, 0.6012259658780649, 0.9979772496524923, 0.9906726593532583, 0.9556235555426037, 0.8768488056296351, 0.9991402655304487, 0, 0.7352050831734225, 0, 0.4955719017806867, 0.9383573425667007, 0.3282587072304535, 0.6639810275072499, 0.46117592222624754, 0.36725138416501035, 0.7071383810219548, 0, 0, 0.8849732315634402, 0, 0, 0, 0.6529114442752847, 0.6470753407852619, 0.7869508989938435, 0.4429875518035868, 0.3868528072345416, 0.821901744906016, 0.3010745007540882, 0.38685280723454163, 0.5801682367707239, 0, 0.5249810332054039, 0.3562178525147859, 0.6309297547642942, 0, 0, 0, 0, 0, 0.5, 0.7380389983613034, 0.9030974738192646, 0.8867631836116899, 0.40250893598160975, 0, 0, 0.31546614994226124, 0.410484072440172, 0.8457412310749011, 0.932726573038972, 0, 0.35783183423828024, 0.5950297777427431, 0.2890648263178879, 0, 0.8570051476473393, 0, 0.7684829631278653, 0, 0.5397619926650034, 0.4560018364570363, 0.9649613228280849, 0, 0.8466599787488885, 0.8871458834650936, 0, 0.612327069569239, 0, 0.9018674636965974, 0.9115775805655953, 0.4306765580733931, 0.4306766579403302, 0.4995161603126597, 0, 0, 0.5038848233061678, 0.33731926158022485, 0.8827518881368044, 0, 0.6597947142448829, 0, 0.4581982226420063, 0, 0, 0, 0, 0, 0, 0.9170018193621202, 0, 0.9888179894317558, 0, 0.9982524320235852, 0.37248771509897943, 0, 0.9491860354165713, 0, 0, 0.5479659538080791, 0.8995690123572068, 0.5308774503717106, 0.5890633595784275, 0.891259675097427, 0.9700852735452101, 0.7895345206733946, 0, 0, 0, 0.6052602440527057, 0, 0.6244248770814624, 0.998059094288551, 0, 0.629817173573627, 0, 0.33333333333333337, 0.9829068812765163, 0.9508595482940803, 0.6310723311795342, 0.5708409853353265, 0.9270848126657433, 0.38577337559074754, 0.5895666238599306, 0, 0.850120879220311, 0.43075131545744405, 0.5817149449511588, 1.0, 0.33333333333333337, 0.8495743093995143, 0.7629181903239309, 0.994802386881703, 0.9998843447835741, 0, 0, 0.8190207676403293, 0.41108156984292077, 0.36711106566624635, 0.9646831021386354, 0.5927581343496491, 1.0, 0.9786376807865106, 0.36525347780442535, 0.3778083498214056, 0.9471514229580245, 0.6309297537062204, 0.5706417189553201, 0.5803687707578712, 0.909682578112263, 0.39299801455933303, 0.9999094092940329, 0, 0.3890624216968028, 0.8774887103938732, 0.6309319629034532, 0, 0.8834772700533964, 0.3012653753979496, 0.9464074258862861, 0.29008689583459346, 0.6784750826001218, 0.9752926089062738, 0.3562071871080221, 0, 0.5000020147785054, 0.3562071871080222, 0.3978884280065371, 0, 0, 0.9745322286858381, 0.9673322458585308, 0.4718972878350248, 0.5218438485468057, 0, 0.6912268005178164, 0.6510702307375683, 0, 0.4915390846533902, 0, 0.5109559939712154, 0.9577047985370732, 0, 0, 0.3428577179533455, 0, 0, 0.9482599765760518, 0, 0.6362920657470674, 0, 0.8666789012244048, 0.9993928592523532, 0, 0, 0, 0.6290796176502388, 0, 0.7532202975716388, 0, 0.6093454490826952, 0.3342648116670224, 0, 0, 0, 0.3562071871080221, 0.5000049371308104, 0.9941943757980322, 0.9184323921729126, 0.9314798107136806, 0, 0, 0.6309301408835601, 0.43067655807339306, 0, 0, 0, 0.8181625871677383, 0, 0, 0, 0.6312916182702246, 0.7919958555073356, 0, 0, 0.9948924494225315, 0.9764329272685918, 0.9905953205113561, 0, 0, 0, 0.8897754946834926, 0.9999972840629753, 0.5671424807145913, 0, 0, 0, 0, 0.997977834476507, 0.49418556194058083, 0, 0, 0, 0, 0, 0.571601885675232, 0.3479210018832523, 0.4306765580733931, 0.3333333340114266, 1.0, 0, 0.7463711689602957, 0.8799714546138868, 0.5709990131939796, 0.7073195572705179, 0.36907073159431336, 0.34012995444633615, 0.4513639628310032, 0.3158949672338819, 0.45923867040623556, 0, 0.999971648937956, 0.5432495683922589, 0, 0, 0.5874653250596803, 0.9640706203299294, 0, 0, 0.41801013664663506, 0.5, 0.9571714881839016, 0.7457170671153623, 0, 0.6474351250798648, 0, 0.9998994951080237, 0.9666853491774036, 0.8134063247701974, 0, 0, 0, 0.6052602440527058, 0.9240418753543742, 0, 0.3904698177764444, 0.9826790563042176, 0.9901535177895602, 0.8151664051993766, 0.8634548742261899, 0, 0, 0.989071783045572, 0.5914637831394934, 0.6378162756239499, 0.6600449773552305, 0.8564415697576176, 0.3989747535081241, 0.35393494401791675, 0.9084996736498572, 0.31928063866503426, 0, 0.5963299158889271, 0.9999998273346877, 0.6562989811409178, 0.2890801867085374, 0.5049204729989251, 0.5515206133539222, 0, 0.7963031820724843, 0.4306765580733931, 0.715120527269943, 0.4674436714149047, 0.9562003066001253, 0.3743619565183074, 0, 0.638248418270812, 0.3345471428100492, 0, 0.6901898118188099, 0.43068774683873307, 0.6808377870241595, 0.9497393393566057, 0.4586675960118577, 0.5192564382530322, 0, 0.9993713229869198, 0.8405445637853941, 0.9138438945550982, 0.7928231209573642, 0.3010299956639812, 0.7990806121054539, 0.7390593090192731, 0.9997459712590985, 0.866557876899754, 0.9999961631841142, 0.5416130107890305, 0.31592232435847417, 0.35625871427217404, 0.31546487678572877, 0.3881036812144183, 0.4872470819015487, 0.925452132695839, 0, 0.6309297535714575, 0.9469024295259745, 0.45043942710884094, 0.28953602871994305, 0.8767791919234132, 0.44546512877006206, 0, 0, 0, 0.5636000131323603, 0.7783973897583216, 0.6202429782726071, 0.6830530627857102, 0.7669718536329763, 0.9999994085460633, 0.9999999993440075, 0.38746527528389535, 0.6804844391540471, 0, 0.6247972079161488, 0, 0, 0, 0.3174570867209014, 0, 0.5767995635826952, 0.381727240071922, 0.5108529962488275, 0.8031101694411508, 0.9078821296069497, 0.9035787972058806, 0.5159090944728838, 0, 0.3562071871080221, 0.9680518172044509, 0.8136209399790361, 0.4686069931352742, 0.9806593035727468, 0.39240758279084376, 0.33894088242558046, 0.3333369491328768, 0.3378615487245973, 0, 0, 0.8719008190014909, 0.5874429250182877, 0.8524736946193682, 0.4237764133735238, 0, 0.5020328677243824, 0, 0.9371680610055221, 0, 0, 0.614194589482335, 0, 0.48379420918399896, 0.6240516274126677, 0.776752677649323, 0.9998797646551975, 0.5010485008778818, 0, 0, 0, 0.7087075457794929, 0.8772152779371601, 0, 0.38685292203442667, 0.6331297718365405, 0.9982411116403245, 0, 0.9999089818826257, 0, 0, 0.6302072428235007, 0.4615395171541, 0.386852809168753, 0, 0.38685338030930805, 0.36193010038280654, 0, 0.5201503911063386, 0, 1.0, 0.9358530276931779, 0.5268062733230137, 0.6099751037918454, 0.4306765580799655, 0.3346180971004488, 0, 0, 0, 0.9908143363021824, 0.37840345156969424, 0.46756475963408556, 0, 0, 0.3540707777115994, 0.3784666948520375, 0, 0, 0.8783919940987128, 0.9476111282858539, 0, 0, 0, 0, 0.9091687053265365, 0.9842184869190973, 0.6159638592189621, 0, 0, 0.6491150185528887, 1.0, 0.5018260064703797, 0.9629341168352221, 0.3562209144744956, 0.9985142970697496, 0.8084934496781826, 0, 0, 0.4487122720865578, 0.38738922160406647, 0.7962814101550596, 0.6593035150685767, 0.5251398320676791, 0.9202796377087583, 0.9022833414030721, 0.7669911811366582, 0.6509442641576407, 0, 0.90024168500824, 0.555316285815899, 0, 0.44357232991934425, 0.9999976881348002, 0, 0.34508158677429246, 0.8876334660903998, 0.4700885645999088, 0.3159228076632756, 0.4646927613654382, 0.32511456428182023, 0, 0.37870122215742724, 0.6113156551044899, 0.7959188526611567, 0.6233985767493243, 0, 0.3076260905918995, 0.8896995980668331, 0.34872162638267745, 0.468450520161077, 0.3010409420151229, 0.7522229209377643, 0.6524646071198146, 0.3192841791142933, 0.3146263041014712, 0.3436392311145242, 0.4798948399728603, 0.4306765582113858, 0, 0, 0.978723226815689, 0.9665903610214007, 0, 0.500365302673526, 0.4069324811952336, 0.28919938802189615, 0.8714634080746086, 0, 0.5633370044941255, 0.43124365593428565, 0.7877966214685473, 0.5672470165319232, 0.3871238680019822, 0.9650570817644365, 0.9763333283224985, 0.6856865185927431]\n"
     ]
    }
   ],
   "source": [
    "import sklearn\n",
    "import numpy as np\n",
    "\n",
    "np_beam_scores = [np.array(item) for item in beam_scores]\n",
    "np_dfs_scores = [np.array(item) for item in dfstopk_scores]\n",
    "beam_logprobs = extra_logprobs(dbpe_detok_beam_outputs)\n",
    "dfstopk_logprobs = extra_logprobs(dbpe_detok_dfstopk_outputs)\n",
    "np_beam_logprob = [np.array(item) for item in beam_logprobs]\n",
    "np_dfs_logprob = [np.array(item) for item in dfstopk_logprobs]\n",
    "\n",
    "def dcg_score(y_true, y_score, k=10, gains=\"exponential\"):\n",
    "    \"\"\"Discounted cumulative gain (DCG) at rank k\n",
    "    Parameters\n",
    "    ----------\n",
    "    y_true : array-like, shape = [n_samples]\n",
    "        Ground truth (true relevance labels).\n",
    "    y_score : array-like, shape = [n_samples]\n",
    "        Predicted scores.\n",
    "    k : int\n",
    "        Rank.\n",
    "    gains : str\n",
    "        Whether gains should be \"exponential\" (default) or \"linear\".\n",
    "    Returns\n",
    "    -------\n",
    "    DCG @k : float\n",
    "    \"\"\"\n",
    "    order = np.argsort(y_score)[::-1]\n",
    "    y_true = np.take(y_true, order[:k])\n",
    "\n",
    "    if gains == \"exponential\":\n",
    "        gains = 2 ** y_true - 1\n",
    "    elif gains == \"linear\":\n",
    "        gains = y_true\n",
    "    else:\n",
    "        raise ValueError(\"Invalid gains option.\")\n",
    "\n",
    "    # highest rank is 1 so +2 instead of +1\n",
    "    discounts = np.log2(np.arange(len(y_true)) + 2)\n",
    "    return np.sum(gains / discounts)\n",
    "\n",
    "\n",
    "def ndcg_score(y_true, y_score, k=10, gains=\"exponential\"):\n",
    "    \"\"\"Normalized discounted cumulative gain (NDCG) at rank k\n",
    "    Parameters\n",
    "    ----------\n",
    "    y_true : array-like, shape = [n_samples]\n",
    "        Ground truth (true relevance labels).\n",
    "    y_score : array-like, shape = [n_samples]\n",
    "        Predicted scores.\n",
    "    k : int\n",
    "        Rank.\n",
    "    gains : str\n",
    "        Whether gains should be \"exponential\" (default) or \"linear\".\n",
    "    Returns\n",
    "    -------\n",
    "    NDCG @k : float\n",
    "    \"\"\"\n",
    "    best = dcg_score(y_true, y_true, k, gains)\n",
    "    actual = dcg_score(y_true, y_score, k, gains)\n",
    "    if actual == 0:\n",
    "        ret = 0\n",
    "    else:\n",
    "        ret = actual / best\n",
    "    return ret\n",
    "\n",
    "def compute_ndcg_over_list(score_list, logprob_list):\n",
    "    ndcgs = []\n",
    "    for i in range(len(score_list)):\n",
    "        cur_score = score_list[i]\n",
    "        cur_logprob = logprob_list[i]\n",
    "        ndcgs.append(ndcg_score(cur_score, cur_logprob))\n",
    "    return ndcgs\n",
    "\n",
    "print(compute_ndcg_over_list(np_beam_scores, np_beam_logprob))\n"
   ]
  },
  {
   "cell_type": "code",
   "execution_count": 24,
   "metadata": {},
   "outputs": [
    {
     "data": {
      "text/plain": [
       "3003"
      ]
     },
     "execution_count": 24,
     "metadata": {},
     "output_type": "execute_result"
    }
   ],
   "source": [
    "len(np_beam_logprob)"
   ]
  },
  {
   "cell_type": "code",
   "execution_count": 29,
   "metadata": {},
   "outputs": [
    {
     "name": "stdout",
     "output_type": "stream",
     "text": [
      "0.22.1\n"
     ]
    },
    {
     "data": {
      "text/plain": [
       "0.493680191377376"
      ]
     },
     "execution_count": 29,
     "metadata": {},
     "output_type": "execute_result"
    }
   ],
   "source": [
    "import sklearn\n",
    "from sklearn.metrics import ndcg_score\n",
    "\n",
    "true_relevance = np.asarray([[10, 0, 0, 1, 5]])\n",
    "scores = np.asarray([[.05, 1.1, 1., .5, .0]])\n",
    "\n",
    "ndcg_score(true_relevance, scores)\n"
   ]
  },
  {
   "cell_type": "code",
   "execution_count": 14,
   "metadata": {},
   "outputs": [
    {
     "ename": "NameError",
     "evalue": "name 'np_beam_scores' is not defined",
     "output_type": "error",
     "traceback": [
      "\u001b[0;31m---------------------------------------------------------------------------\u001b[0m",
      "\u001b[0;31mNameError\u001b[0m                                 Traceback (most recent call last)",
      "\u001b[0;32m<ipython-input-14-c96d2bba53b2>\u001b[0m in \u001b[0;36m<module>\u001b[0;34m\u001b[0m\n\u001b[1;32m     49\u001b[0m     \u001b[0mactual\u001b[0m \u001b[0;34m=\u001b[0m \u001b[0mdcg_score\u001b[0m\u001b[0;34m(\u001b[0m\u001b[0my_true\u001b[0m\u001b[0;34m,\u001b[0m \u001b[0my_score\u001b[0m\u001b[0;34m,\u001b[0m \u001b[0mk\u001b[0m\u001b[0;34m,\u001b[0m \u001b[0mgains\u001b[0m\u001b[0;34m)\u001b[0m\u001b[0;34m\u001b[0m\u001b[0;34m\u001b[0m\u001b[0m\n\u001b[1;32m     50\u001b[0m     \u001b[0;32mreturn\u001b[0m \u001b[0mactual\u001b[0m \u001b[0;34m/\u001b[0m \u001b[0mbest\u001b[0m\u001b[0;34m\u001b[0m\u001b[0;34m\u001b[0m\u001b[0m\n\u001b[0;32m---> 51\u001b[0;31m \u001b[0mprint\u001b[0m\u001b[0;34m(\u001b[0m\u001b[0mndcg_score\u001b[0m\u001b[0;34m(\u001b[0m\u001b[0mnp_beam_scores\u001b[0m\u001b[0;34m,\u001b[0m \u001b[0mnp_beam_logprob\u001b[0m\u001b[0;34m)\u001b[0m\u001b[0;34m)\u001b[0m\u001b[0;34m\u001b[0m\u001b[0;34m\u001b[0m\u001b[0m\n\u001b[0m",
      "\u001b[0;31mNameError\u001b[0m: name 'np_beam_scores' is not defined"
     ]
    }
   ],
   "source": [
    "def dcg_score(y_true, y_score, k=10, gains=\"exponential\"):\n",
    "    \"\"\"Discounted cumulative gain (DCG) at rank k\n",
    "    Parameters\n",
    "    ----------\n",
    "    y_true : array-like, shape = [n_samples]\n",
    "        Ground truth (true relevance labels).\n",
    "    y_score : array-like, shape = [n_samples]\n",
    "        Predicted scores.\n",
    "    k : int\n",
    "        Rank.\n",
    "    gains : str\n",
    "        Whether gains should be \"exponential\" (default) or \"linear\".\n",
    "    Returns\n",
    "    -------\n",
    "    DCG @k : float\n",
    "    \"\"\"\n",
    "    order = np.argsort(y_score)[::-1]\n",
    "    y_true = np.take(y_true, order[:k])\n",
    "\n",
    "    if gains == \"exponential\":\n",
    "        gains = 2 ** y_true - 1\n",
    "    elif gains == \"linear\":\n",
    "        gains = y_true\n",
    "    else:\n",
    "        raise ValueError(\"Invalid gains option.\")\n",
    "\n",
    "    # highest rank is 1 so +2 instead of +1\n",
    "    discounts = np.log2(np.arange(len(y_true)) + 2)\n",
    "    return np.sum(gains / discounts)\n",
    "\n",
    "\n",
    "def ndcg_score(y_true, y_score, k=10, gains=\"exponential\"):\n",
    "    \"\"\"Normalized discounted cumulative gain (NDCG) at rank k\n",
    "    Parameters\n",
    "    ----------\n",
    "    y_true : array-like, shape = [n_samples]\n",
    "        Ground truth (true relevance labels).\n",
    "    y_score : array-like, shape = [n_samples]\n",
    "        Predicted scores.\n",
    "    k : int\n",
    "        Rank.\n",
    "    gains : str\n",
    "        Whether gains should be \"exponential\" (default) or \"linear\".\n",
    "    Returns\n",
    "    -------\n",
    "    NDCG @k : float\n",
    "    \"\"\"\n",
    "    best = dcg_score(y_true, y_true, k, gains)\n",
    "    actual = dcg_score(y_true, y_score, k, gains)\n",
    "    return actual / best\n",
    "print(ndcg_score(np_beam_scores, np_beam_logprob))"
   ]
  },
  {
   "cell_type": "code",
   "execution_count": null,
   "metadata": {},
   "outputs": [],
   "source": []
  }
 ],
 "metadata": {
  "kernelspec": {
   "display_name": "Python 3",
   "language": "python",
   "name": "python3"
  },
  "language_info": {
   "codemirror_mode": {
    "name": "ipython",
    "version": 3
   },
   "file_extension": ".py",
   "mimetype": "text/x-python",
   "name": "python",
   "nbconvert_exporter": "python",
   "pygments_lexer": "ipython3",
   "version": "3.7.6"
  }
 },
 "nbformat": 4,
 "nbformat_minor": 4
}
