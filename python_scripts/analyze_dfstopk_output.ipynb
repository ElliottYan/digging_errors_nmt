{
 "cells": [
  {
   "cell_type": "code",
   "execution_count": 82,
   "metadata": {},
   "outputs": [],
   "source": [
    "import sys\n",
    "import os\n",
    "from collections import defaultdict\n",
    "import sacrebleu\n",
    "\n",
    "temp_path = 'ende_{}_wmt14.en-de.transformer.para_ft'\n",
    "dfs_path = temp_path.format('dfstopk')\n",
    "beam_path = temp_path.format('beam')\n",
    "beam_size = 10"
   ]
  },
  {
   "cell_type": "code",
   "execution_count": 124,
   "metadata": {},
   "outputs": [],
   "source": [
    "def read_split_files(file_path, beam_size):\n",
    "    all_lines = dict()\n",
    "    for file in os.listdir(file_path):\n",
    "        cur_path = os.path.join(beam_path, file)\n",
    "        with open(cur_path, 'r') as f:\n",
    "            lines = f.readlines()\n",
    "        num_suffix = file.split('.')[-1]\n",
    "        all_lines[int(num_suffix)] = lines\n",
    "    max_range = max([int(key) for key in all_lines])\n",
    "    assert max_range + 1 == len(all_lines)\n",
    "\n",
    "    ret = defaultdict(list)\n",
    "    for i in range(max_range+1):\n",
    "        offset = beam_size * i\n",
    "        for line in all_lines[i]:\n",
    "            splits = line.strip().split('|||')\n",
    "            assert len(splits) == 3\n",
    "            idx, sent, score = splits\n",
    "            true_idx = offset + int(idx)\n",
    "            ret[true_idx].append((float(score), sent.strip()))\n",
    "    return ret"
   ]
  },
  {
   "cell_type": "code",
   "execution_count": 84,
   "metadata": {},
   "outputs": [],
   "source": [
    "# call delbpe\n",
    "import subprocess\n",
    "\n",
    "def call_delbpe(input_dir):\n",
    "    output_dir = input_dir + '.delbpe'\n",
    "    print(output_dir)\n",
    "    subprocess.run(['mkdir', '-p', output_dir])\n",
    "    for file in os.listdir(input_dir):\n",
    "        if not file.endswith('delbpe'):\n",
    "            abs_path = os.path.join(input_dir, file)\n",
    "            out_path = os.path.join(output_dir, file)\n",
    "            subprocess.run(['bash', 'delbpe.sh', abs_path])\n",
    "            subprocess.run(['mv', abs_path+'.delbpe', out_path])\n",
    "            \n",
    "    return output_dir"
   ]
  },
  {
   "cell_type": "code",
   "execution_count": 112,
   "metadata": {},
   "outputs": [],
   "source": [
    "# call delbpe\n",
    "import subprocess\n",
    "\n",
    "def call_detok(input_dir):\n",
    "    output_dir = input_dir + '.detok'\n",
    "    print(output_dir)\n",
    "    subprocess.run(['mkdir', '-p', output_dir])\n",
    "    for file in os.listdir(input_dir):\n",
    "        if not file.endswith('detok'):\n",
    "            abs_path = os.path.join(input_dir, file)\n",
    "            out_path = os.path.join(output_dir, file)\n",
    "            f1 = open(abs_path, 'r')\n",
    "            f2 = open(out_path, 'w')\n",
    "            subprocess.run(['perl', 'detokenizer.perl'], stdin=f1, stdout=f2)\n",
    "            f1.close()\n",
    "            f2.close()\n",
    "#             subprocess.run(['mv', abs_path+'.delbpe', ])\n",
    "            \n",
    "    return output_dir"
   ]
  },
  {
   "cell_type": "code",
   "execution_count": 85,
   "metadata": {},
   "outputs": [
    {
     "name": "stdout",
     "output_type": "stream",
     "text": [
      "ende_beam_wmt14.en-de.transformer.para_ft.delbpe\n",
      "ende_dfstopk_wmt14.en-de.transformer.para_ft.delbpe\n"
     ]
    }
   ],
   "source": [
    "delbpe_beam_path = call_delbpe(beam_path)\n",
    "delbpe_dfs_path = call_delbpe(dfs_path)"
   ]
  },
  {
   "cell_type": "code",
   "execution_count": 113,
   "metadata": {},
   "outputs": [
    {
     "name": "stdout",
     "output_type": "stream",
     "text": [
      "ende_beam_wmt14.en-de.transformer.para_ft.delbpe.detok\n",
      "ende_beam_wmt14.en-de.transformer.para_ft.delbpe.detok\n"
     ]
    }
   ],
   "source": [
    "detok_delbpe_beam_path = call_detok(delbpe_beam_path)\n",
    "detok_delbpe_dfs_path = call_detok(delbpe_beam_path)"
   ]
  },
  {
   "cell_type": "code",
   "execution_count": 125,
   "metadata": {},
   "outputs": [],
   "source": [
    "beam_outputs = read_split_files(detok_delbpe_beam_path, beam_size)\n",
    "dfs_outputs = read_split_files(detok_delbpe_dfs_path, beam_size)"
   ]
  },
  {
   "cell_type": "code",
   "execution_count": 126,
   "metadata": {},
   "outputs": [],
   "source": [
    "def read(file):\n",
    "    with open(file, 'r') as f:\n",
    "        lines = f.readlines()\n",
    "    lines = [line.strip() for line in lines]\n",
    "    return lines\n",
    "ref_file = './test.de.tok.detok'\n",
    "refs = read(ref_file)"
   ]
  },
  {
   "cell_type": "code",
   "execution_count": 127,
   "metadata": {},
   "outputs": [
    {
     "data": {
      "text/plain": [
       "3003"
      ]
     },
     "execution_count": 127,
     "metadata": {},
     "output_type": "execute_result"
    }
   ],
   "source": [
    "len(refs)"
   ]
  },
  {
   "cell_type": "code",
   "execution_count": 128,
   "metadata": {},
   "outputs": [],
   "source": [
    "def score_all_outputs(output_dict, refs):\n",
    "    scores = []\n",
    "    for idx in output_dict:\n",
    "        cur_ref = refs[idx]\n",
    "        candidates = output_dict[idx]\n",
    "        candidates = [item[1] for item in candidates]\n",
    "        cur_scores = [sacrebleu.sentence_bleu(item, cur_ref) for item in candidates]\n",
    "        scores.append(cur_scores)\n",
    "    return scores\n",
    "beam_scores = score_all_outputs(beam_outputs, refs)"
   ]
  },
  {
   "cell_type": "code",
   "execution_count": 129,
   "metadata": {},
   "outputs": [
    {
     "name": "stdout",
     "output_type": "stream",
     "text": [
      "18.250411330999558\n"
     ]
    }
   ],
   "source": [
    "all_scores = []\n",
    "for i in range(len(beam_scores)):\n",
    "    for item in beam_scores[i]:\n",
    "        all_scores.append(item.score)\n",
    "print(sum(all_scores) / len(all_scores))"
   ]
  },
  {
   "cell_type": "code",
   "execution_count": 130,
   "metadata": {},
   "outputs": [],
   "source": [
    "def get_top1(outputs):\n",
    "    ret = [None] * len(outputs)\n",
    "    for key in outputs:\n",
    "        ret[key] = outputs[key][0][1]\n",
    "    return ret\n",
    "def write_file(sents, file):\n",
    "    with open(file, 'w') as f:\n",
    "        for sent in sents:\n",
    "            f.write(sent + '\\n')\n",
    "beam_top1s = get_top1(beam_outputs)\n",
    "write_file(beam_top1s, 'beam.outs')"
   ]
  },
  {
   "cell_type": "code",
   "execution_count": 106,
   "metadata": {},
   "outputs": [
    {
     "data": {
      "text/plain": [
       "17.671315921862618"
      ]
     },
     "execution_count": 106,
     "metadata": {},
     "output_type": "execute_result"
    }
   ],
   "source": [
    "beam_scores[50][1].score"
   ]
  },
  {
   "cell_type": "code",
   "execution_count": 107,
   "metadata": {},
   "outputs": [
    {
     "name": "stdout",
     "output_type": "stream",
     "text": [
      "3003\n",
      "3003\n"
     ]
    }
   ],
   "source": [
    "print(len(beam_outputs))\n",
    "print(len(dfs_outputs))"
   ]
  },
  {
   "cell_type": "code",
   "execution_count": 45,
   "metadata": {
    "scrolled": false
   },
   "outputs": [],
   "source": []
  },
  {
   "cell_type": "code",
   "execution_count": null,
   "metadata": {},
   "outputs": [],
   "source": []
  }
 ],
 "metadata": {
  "kernelspec": {
   "display_name": "Python 3",
   "language": "python",
   "name": "python3"
  },
  "language_info": {
   "codemirror_mode": {
    "name": "ipython",
    "version": 3
   },
   "file_extension": ".py",
   "mimetype": "text/x-python",
   "name": "python",
   "nbconvert_exporter": "python",
   "pygments_lexer": "ipython3",
   "version": "3.7.6"
  }
 },
 "nbformat": 4,
 "nbformat_minor": 4
}
